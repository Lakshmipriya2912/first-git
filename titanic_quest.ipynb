{
 "cells": [
  {
   "cell_type": "code",
   "execution_count": 3,
   "id": "9c53d751",
   "metadata": {},
   "outputs": [
    {
     "name": "stdout",
     "output_type": "stream",
     "text": [
      "<class 'pandas.core.frame.DataFrame'>\n",
      "RangeIndex: 1309 entries, 0 to 1308\n",
      "Data columns (total 11 columns):\n",
      " #   Column    Non-Null Count  Dtype  \n",
      "---  ------    --------------  -----  \n",
      " 0   pclass    1309 non-null   int64  \n",
      " 1   name      1309 non-null   object \n",
      " 2   sex       1309 non-null   object \n",
      " 3   age       1046 non-null   float64\n",
      " 4   sibsp     1309 non-null   int64  \n",
      " 5   parch     1309 non-null   int64  \n",
      " 6   ticket    1309 non-null   object \n",
      " 7   fare      1308 non-null   float64\n",
      " 8   cabin     295 non-null    object \n",
      " 9   embarked  1307 non-null   object \n",
      " 10  survived  1309 non-null   int64  \n",
      "dtypes: float64(2), int64(4), object(5)\n",
      "memory usage: 112.6+ KB\n"
     ]
    }
   ],
   "source": [
    "df.info()"
   ]
  },
  {
   "cell_type": "code",
   "execution_count": 4,
   "id": "7a31dd99",
   "metadata": {},
   "outputs": [
    {
     "data": {
      "text/plain": [
       "np.False_"
      ]
     },
     "execution_count": 4,
     "metadata": {},
     "output_type": "execute_result"
    }
   ],
   "source": [
    "df.duplicated().any()"
   ]
  },
  {
   "cell_type": "code",
   "execution_count": 5,
   "id": "7d34b587",
   "metadata": {},
   "outputs": [],
   "source": [
    "df['embarked']=df['embarked'].fillna(df['embarked'].mode()[0])\n",
    "#df['embarked'].mode()[0]"
   ]
  },
  {
   "cell_type": "code",
   "execution_count": 6,
   "id": "74f47558",
   "metadata": {},
   "outputs": [
    {
     "data": {
      "text/plain": [
       "<Axes: xlabel='fare'>"
      ]
     },
     "execution_count": 6,
     "metadata": {},
     "output_type": "execute_result"
    },
    {
     "data": {
      "image/png": "[encoded data removed]",
      "text/plain": [
       "<Figure size 400x200 with 2 Axes>"
      ]
     },
     "metadata": {},
     "output_type": "display_data"
    }
   ],
   "source": [
    "fig,axes=plt.subplots(1,2,figsize=(4,2)) # instance of using fig size we can go with figsize in subplots\n",
    "#subplots is used to give the index no according to the condition\n",
    "sns.boxplot(df,x='age',ax=axes[0])\n",
    "sns.boxplot(df,x='fare',ax=axes[1])"
   ]
  },
  {
   "cell_type": "code",
   "execution_count": 7,
   "id": "ade22ca8",
   "metadata": {},
   "outputs": [],
   "source": [
    "df['age']=df['age'].fillna(df['age'].median())\n",
    "df['fare']=df['fare'].fillna(df['fare'].median())"
   ]
  },
  {
   "cell_type": "code",
   "execution_count": 8,
   "id": "a7e34c81",
   "metadata": {},
   "outputs": [],
   "source": [
    "df=df.drop(columns='cabin')"
   ]
  },
  {
   "cell_type": "code",
   "execution_count": 9,
   "id": "9efa36a3",
   "metadata": {},
   "outputs": [],
   "source": [
    "for col in ['age','fare']:\n",
    "    df[col]=df[col].round(1)\n",
    "    "
   ]
  },
  {
   "cell_type": "code",
   "execution_count": 10,
   "id": "a4a4e3a2",
   "metadata": {},
   "outputs": [
    {
     "name": "stdout",
     "output_type": "stream",
     "text": [
      "<class 'pandas.core.frame.DataFrame'>\n",
      "RangeIndex: 1309 entries, 0 to 1308\n",
      "Data columns (total 10 columns):\n",
      " #   Column    Non-Null Count  Dtype  \n",
      "---  ------    --------------  -----  \n",
      " 0   pclass    1309 non-null   int64  \n",
      " 1   name      1309 non-null   object \n",
      " 2   sex       1309 non-null   object \n",
      " 3   age       1309 non-null   float64\n",
      " 4   sibsp     1309 non-null   int64  \n",
      " 5   parch     1309 non-null   int64  \n",
      " 6   ticket    1309 non-null   object \n",
      " 7   fare      1309 non-null   float64\n",
      " 8   embarked  1309 non-null   object \n",
      " 9   survived  1309 non-null   int64  \n",
      "dtypes: float64(2), int64(4), object(4)\n",
      "memory usage: 102.4+ KB\n"
     ]
    }
   ],
   "source": [
    "df.info()"
   ]
  },
  {
   "cell_type": "code",
   "execution_count": 11,
   "id": "10ea4db0",
   "metadata": {},
   "outputs": [],
   "source": [
    "df['family_count']=df['sibsp']+df['parch']\n"
   ]
  },
  {
   "cell_type": "code",
   "execution_count": 12,
   "id": "d8107167",
   "metadata": {},
   "outputs": [],
   "source": [
    "df=df.drop(columns='parch')\n",
    "df=df.drop(columns='sibsp')"
   ]
  },
  {
   "cell_type": "code",
   "execution_count": 13,
   "id": "5b77199e",
   "metadata": {},
   "outputs": [],
   "source": [
    "# temp=df['name'].str.split(',',expand=True)[1]\n",
    "# df[['title','fname']]=temp.str.split('.',n=1,expand=True)\n",
    "# for i in ['title','fname','lname']:\n",
    "#     df[i]=df[i].str.strip()"
   ]
  },
  {
   "cell_type": "code",
   "execution_count": 14,
   "id": "c6eab3e9",
   "metadata": {},
   "outputs": [
    {
     "data": {
      "text/html": [
       "<div>\n",
       "<style scoped>\n",
       "    .dataframe tbody tr th:only-of-type {\n",
       "        vertical-align: middle;\n",
       "    }\n",
       "\n",
       "    .dataframe tbody tr th {\n",
       "        vertical-align: top;\n",
       "    }\n",
       "\n",
       "    .dataframe thead th {\n",
       "        text-align: right;\n",
       "    }\n",
       "</style>\n",
       "<table border=\"1\" class=\"dataframe\">\n",
       "  <thead>\n",
       "    <tr style=\"text-align: right;\">\n",
       "      <th></th>\n",
       "      <th>pclass</th>\n",
       "      <th>name</th>\n",
       "      <th>sex</th>\n",
       "      <th>age</th>\n",
       "      <th>ticket</th>\n",
       "      <th>fare</th>\n",
       "      <th>embarked</th>\n",
       "      <th>survived</th>\n",
       "      <th>family_count</th>\n",
       "      <th>lname</th>\n",
       "      <th>temp</th>\n",
       "    </tr>\n",
       "  </thead>\n",
       "  <tbody>\n",
       "    <tr>\n",
       "      <th>0</th>\n",
       "      <td>1</td>\n",
       "      <td>Allen, Miss. Elisabeth Walton</td>\n",
       "      <td>female</td>\n",
       "      <td>29.0</td>\n",
       "      <td>24160</td>\n",
       "      <td>211.3</td>\n",
       "      <td>S</td>\n",
       "      <td>1</td>\n",
       "      <td>0</td>\n",
       "      <td>Allen</td>\n",
       "      <td>Miss. Elisabeth Walton</td>\n",
       "    </tr>\n",
       "    <tr>\n",
       "      <th>1</th>\n",
       "      <td>1</td>\n",
       "      <td>Allison, Master. Hudson Trevor</td>\n",
       "      <td>male</td>\n",
       "      <td>0.9</td>\n",
       "      <td>113781</td>\n",
       "      <td>151.6</td>\n",
       "      <td>S</td>\n",
       "      <td>1</td>\n",
       "      <td>3</td>\n",
       "      <td>Allison</td>\n",
       "      <td>Master. Hudson Trevor</td>\n",
       "    </tr>\n",
       "    <tr>\n",
       "      <th>2</th>\n",
       "      <td>1</td>\n",
       "      <td>Allison, Miss. Helen Loraine</td>\n",
       "      <td>female</td>\n",
       "      <td>2.0</td>\n",
       "      <td>113781</td>\n",
       "      <td>151.6</td>\n",
       "      <td>S</td>\n",
       "      <td>0</td>\n",
       "      <td>3</td>\n",
       "      <td>Allison</td>\n",
       "      <td>Miss. Helen Loraine</td>\n",
       "    </tr>\n",
       "    <tr>\n",
       "      <th>3</th>\n",
       "      <td>1</td>\n",
       "      <td>Allison, Mr. Hudson Joshua Creighton</td>\n",
       "      <td>male</td>\n",
       "      <td>30.0</td>\n",
       "      <td>113781</td>\n",
       "      <td>151.6</td>\n",
       "      <td>S</td>\n",
       "      <td>0</td>\n",
       "      <td>3</td>\n",
       "      <td>Allison</td>\n",
       "      <td>Mr. Hudson Joshua Creighton</td>\n",
       "    </tr>\n",
       "    <tr>\n",
       "      <th>4</th>\n",
       "      <td>1</td>\n",
       "      <td>Allison, Mrs. Hudson J C (Bessie Waldo Daniels)</td>\n",
       "      <td>female</td>\n",
       "      <td>25.0</td>\n",
       "      <td>113781</td>\n",
       "      <td>151.6</td>\n",
       "      <td>S</td>\n",
       "      <td>0</td>\n",
       "      <td>3</td>\n",
       "      <td>Allison</td>\n",
       "      <td>Mrs. Hudson J C (Bessie Waldo Daniels)</td>\n",
       "    </tr>\n",
       "    <tr>\n",
       "      <th>...</th>\n",
       "      <td>...</td>\n",
       "      <td>...</td>\n",
       "      <td>...</td>\n",
       "      <td>...</td>\n",
       "      <td>...</td>\n",
       "      <td>...</td>\n",
       "      <td>...</td>\n",
       "      <td>...</td>\n",
       "      <td>...</td>\n",
       "      <td>...</td>\n",
       "      <td>...</td>\n",
       "    </tr>\n",
       "    <tr>\n",
       "      <th>1304</th>\n",
       "      <td>3</td>\n",
       "      <td>Zabour, Miss. Hileni</td>\n",
       "      <td>female</td>\n",
       "      <td>14.5</td>\n",
       "      <td>2665</td>\n",
       "      <td>14.5</td>\n",
       "      <td>C</td>\n",
       "      <td>0</td>\n",
       "      <td>1</td>\n",
       "      <td>Zabour</td>\n",
       "      <td>Miss. Hileni</td>\n",
       "    </tr>\n",
       "    <tr>\n",
       "      <th>1305</th>\n",
       "      <td>3</td>\n",
       "      <td>Zabour, Miss. Thamine</td>\n",
       "      <td>female</td>\n",
       "      <td>28.0</td>\n",
       "      <td>2665</td>\n",
       "      <td>14.5</td>\n",
       "      <td>C</td>\n",
       "      <td>0</td>\n",
       "      <td>1</td>\n",
       "      <td>Zabour</td>\n",
       "      <td>Miss. Thamine</td>\n",
       "    </tr>\n",
       "    <tr>\n",
       "      <th>1306</th>\n",
       "      <td>3</td>\n",
       "      <td>Zakarian, Mr. Mapriededer</td>\n",
       "      <td>male</td>\n",
       "      <td>26.5</td>\n",
       "      <td>2656</td>\n",
       "      <td>7.2</td>\n",
       "      <td>C</td>\n",
       "      <td>0</td>\n",
       "      <td>0</td>\n",
       "      <td>Zakarian</td>\n",
       "      <td>Mr. Mapriededer</td>\n",
       "    </tr>\n",
       "    <tr>\n",
       "      <th>1307</th>\n",
       "      <td>3</td>\n",
       "      <td>Zakarian, Mr. Ortin</td>\n",
       "      <td>male</td>\n",
       "      <td>27.0</td>\n",
       "      <td>2670</td>\n",
       "      <td>7.2</td>\n",
       "      <td>C</td>\n",
       "      <td>0</td>\n",
       "      <td>0</td>\n",
       "      <td>Zakarian</td>\n",
       "      <td>Mr. Ortin</td>\n",
       "    </tr>\n",
       "    <tr>\n",
       "      <th>1308</th>\n",
       "      <td>3</td>\n",
       "      <td>Zimmerman, Mr. Leo</td>\n",
       "      <td>male</td>\n",
       "      <td>29.0</td>\n",
       "      <td>315082</td>\n",
       "      <td>7.9</td>\n",
       "      <td>S</td>\n",
       "      <td>0</td>\n",
       "      <td>0</td>\n",
       "      <td>Zimmerman</td>\n",
       "      <td>Mr. Leo</td>\n",
       "    </tr>\n",
       "  </tbody>\n",
       "</table>\n",
       "<p>1309 rows × 11 columns</p>\n",
       "</div>"
      ],
      "text/plain": [
       "      pclass                                             name     sex   age  \\\n",
       "0          1                    Allen, Miss. Elisabeth Walton  female  29.0   \n",
       "1          1                   Allison, Master. Hudson Trevor    male   0.9   \n",
       "2          1                     Allison, Miss. Helen Loraine  female   2.0   \n",
       "3          1             Allison, Mr. Hudson Joshua Creighton    male  30.0   \n",
       "4          1  Allison, Mrs. Hudson J C (Bessie Waldo Daniels)  female  25.0   \n",
       "...      ...                                              ...     ...   ...   \n",
       "1304       3                             Zabour, Miss. Hileni  female  14.5   \n",
       "1305       3                            Zabour, Miss. Thamine  female  28.0   \n",
       "1306       3                        Zakarian, Mr. Mapriededer    male  26.5   \n",
       "1307       3                              Zakarian, Mr. Ortin    male  27.0   \n",
       "1308       3                               Zimmerman, Mr. Leo    male  29.0   \n",
       "\n",
       "      ticket   fare embarked  survived  family_count      lname  \\\n",
       "0      24160  211.3        S         1             0      Allen   \n",
       "1     113781  151.6        S         1             3    Allison   \n",
       "2     113781  151.6        S         0             3    Allison   \n",
       "3     113781  151.6        S         0             3    Allison   \n",
       "4     113781  151.6        S         0             3    Allison   \n",
       "...      ...    ...      ...       ...           ...        ...   \n",
       "1304    2665   14.5        C         0             1     Zabour   \n",
       "1305    2665   14.5        C         0             1     Zabour   \n",
       "1306    2656    7.2        C         0             0   Zakarian   \n",
       "1307    2670    7.2        C         0             0   Zakarian   \n",
       "1308  315082    7.9        S         0             0  Zimmerman   \n",
       "\n",
       "                                         temp  \n",
       "0                      Miss. Elisabeth Walton  \n",
       "1                       Master. Hudson Trevor  \n",
       "2                         Miss. Helen Loraine  \n",
       "3                 Mr. Hudson Joshua Creighton  \n",
       "4      Mrs. Hudson J C (Bessie Waldo Daniels)  \n",
       "...                                       ...  \n",
       "1304                             Miss. Hileni  \n",
       "1305                            Miss. Thamine  \n",
       "1306                          Mr. Mapriededer  \n",
       "1307                                Mr. Ortin  \n",
       "1308                                  Mr. Leo  \n",
       "\n",
       "[1309 rows x 11 columns]"
      ]
     },
     "execution_count": 14,
     "metadata": {},
     "output_type": "execute_result"
    }
   ],
   "source": [
    "df[['lname','temp']]=df['name'].str.split(',',expand=True)\n",
    "df"
   ]
  },
  {
   "cell_type": "code",
   "execution_count": 15,
   "id": "779f8056",
   "metadata": {},
   "outputs": [],
   "source": [
    "df[['title','fname']]=df['temp'].str.split('.',n=1,expand=True)"
   ]
  },
  {
   "cell_type": "code",
   "execution_count": 16,
   "id": "5d414810",
   "metadata": {},
   "outputs": [
    {
     "data": {
      "text/html": [
       "<div>\n",
       "<style scoped>\n",
       "    .dataframe tbody tr th:only-of-type {\n",
       "        vertical-align: middle;\n",
       "    }\n",
       "\n",
       "    .dataframe tbody tr th {\n",
       "        vertical-align: top;\n",
       "    }\n",
       "\n",
       "    .dataframe thead th {\n",
       "        text-align: right;\n",
       "    }\n",
       "</style>\n",
       "<table border=\"1\" class=\"dataframe\">\n",
       "  <thead>\n",
       "    <tr style=\"text-align: right;\">\n",
       "      <th></th>\n",
       "      <th>pclass</th>\n",
       "      <th>name</th>\n",
       "      <th>sex</th>\n",
       "      <th>age</th>\n",
       "      <th>ticket</th>\n",
       "      <th>fare</th>\n",
       "      <th>embarked</th>\n",
       "      <th>survived</th>\n",
       "      <th>family_count</th>\n",
       "      <th>lname</th>\n",
       "      <th>temp</th>\n",
       "      <th>title</th>\n",
       "      <th>fname</th>\n",
       "    </tr>\n",
       "  </thead>\n",
       "  <tbody>\n",
       "    <tr>\n",
       "      <th>0</th>\n",
       "      <td>1</td>\n",
       "      <td>Allen, Miss. Elisabeth Walton</td>\n",
       "      <td>female</td>\n",
       "      <td>29.0</td>\n",
       "      <td>24160</td>\n",
       "      <td>211.3</td>\n",
       "      <td>S</td>\n",
       "      <td>1</td>\n",
       "      <td>0</td>\n",
       "      <td>Allen</td>\n",
       "      <td>Miss. Elisabeth Walton</td>\n",
       "      <td>Miss</td>\n",
       "      <td>Elisabeth Walton</td>\n",
       "    </tr>\n",
       "    <tr>\n",
       "      <th>1</th>\n",
       "      <td>1</td>\n",
       "      <td>Allison, Master. Hudson Trevor</td>\n",
       "      <td>male</td>\n",
       "      <td>0.9</td>\n",
       "      <td>113781</td>\n",
       "      <td>151.6</td>\n",
       "      <td>S</td>\n",
       "      <td>1</td>\n",
       "      <td>3</td>\n",
       "      <td>Allison</td>\n",
       "      <td>Master. Hudson Trevor</td>\n",
       "      <td>Master</td>\n",
       "      <td>Hudson Trevor</td>\n",
       "    </tr>\n",
       "    <tr>\n",
       "      <th>2</th>\n",
       "      <td>1</td>\n",
       "      <td>Allison, Miss. Helen Loraine</td>\n",
       "      <td>female</td>\n",
       "      <td>2.0</td>\n",
       "      <td>113781</td>\n",
       "      <td>151.6</td>\n",
       "      <td>S</td>\n",
       "      <td>0</td>\n",
       "      <td>3</td>\n",
       "      <td>Allison</td>\n",
       "      <td>Miss. Helen Loraine</td>\n",
       "      <td>Miss</td>\n",
       "      <td>Helen Loraine</td>\n",
       "    </tr>\n",
       "    <tr>\n",
       "      <th>3</th>\n",
       "      <td>1</td>\n",
       "      <td>Allison, Mr. Hudson Joshua Creighton</td>\n",
       "      <td>male</td>\n",
       "      <td>30.0</td>\n",
       "      <td>113781</td>\n",
       "      <td>151.6</td>\n",
       "      <td>S</td>\n",
       "      <td>0</td>\n",
       "      <td>3</td>\n",
       "      <td>Allison</td>\n",
       "      <td>Mr. Hudson Joshua Creighton</td>\n",
       "      <td>Mr</td>\n",
       "      <td>Hudson Joshua Creighton</td>\n",
       "    </tr>\n",
       "    <tr>\n",
       "      <th>4</th>\n",
       "      <td>1</td>\n",
       "      <td>Allison, Mrs. Hudson J C (Bessie Waldo Daniels)</td>\n",
       "      <td>female</td>\n",
       "      <td>25.0</td>\n",
       "      <td>113781</td>\n",
       "      <td>151.6</td>\n",
       "      <td>S</td>\n",
       "      <td>0</td>\n",
       "      <td>3</td>\n",
       "      <td>Allison</td>\n",
       "      <td>Mrs. Hudson J C (Bessie Waldo Daniels)</td>\n",
       "      <td>Mrs</td>\n",
       "      <td>Hudson J C (Bessie Waldo Daniels)</td>\n",
       "    </tr>\n",
       "    <tr>\n",
       "      <th>...</th>\n",
       "      <td>...</td>\n",
       "      <td>...</td>\n",
       "      <td>...</td>\n",
       "      <td>...</td>\n",
       "      <td>...</td>\n",
       "      <td>...</td>\n",
       "      <td>...</td>\n",
       "      <td>...</td>\n",
       "      <td>...</td>\n",
       "      <td>...</td>\n",
       "      <td>...</td>\n",
       "      <td>...</td>\n",
       "      <td>...</td>\n",
       "    </tr>\n",
       "    <tr>\n",
       "      <th>1304</th>\n",
       "      <td>3</td>\n",
       "      <td>Zabour, Miss. Hileni</td>\n",
       "      <td>female</td>\n",
       "      <td>14.5</td>\n",
       "      <td>2665</td>\n",
       "      <td>14.5</td>\n",
       "      <td>C</td>\n",
       "      <td>0</td>\n",
       "      <td>1</td>\n",
       "      <td>Zabour</td>\n",
       "      <td>Miss. Hileni</td>\n",
       "      <td>Miss</td>\n",
       "      <td>Hileni</td>\n",
       "    </tr>\n",
       "    <tr>\n",
       "      <th>1305</th>\n",
       "      <td>3</td>\n",
       "      <td>Zabour, Miss. Thamine</td>\n",
       "      <td>female</td>\n",
       "      <td>28.0</td>\n",
       "      <td>2665</td>\n",
       "      <td>14.5</td>\n",
       "      <td>C</td>\n",
       "      <td>0</td>\n",
       "      <td>1</td>\n",
       "      <td>Zabour</td>\n",
       "      <td>Miss. Thamine</td>\n",
       "      <td>Miss</td>\n",
       "      <td>Thamine</td>\n",
       "    </tr>\n",
       "    <tr>\n",
       "      <th>1306</th>\n",
       "      <td>3</td>\n",
       "      <td>Zakarian, Mr. Mapriededer</td>\n",
       "      <td>male</td>\n",
       "      <td>26.5</td>\n",
       "      <td>2656</td>\n",
       "      <td>7.2</td>\n",
       "      <td>C</td>\n",
       "      <td>0</td>\n",
       "      <td>0</td>\n",
       "      <td>Zakarian</td>\n",
       "      <td>Mr. Mapriededer</td>\n",
       "      <td>Mr</td>\n",
       "      <td>Mapriededer</td>\n",
       "    </tr>\n",
       "    <tr>\n",
       "      <th>1307</th>\n",
       "      <td>3</td>\n",
       "      <td>Zakarian, Mr. Ortin</td>\n",
       "      <td>male</td>\n",
       "      <td>27.0</td>\n",
       "      <td>2670</td>\n",
       "      <td>7.2</td>\n",
       "      <td>C</td>\n",
       "      <td>0</td>\n",
       "      <td>0</td>\n",
       "      <td>Zakarian</td>\n",
       "      <td>Mr. Ortin</td>\n",
       "      <td>Mr</td>\n",
       "      <td>Ortin</td>\n",
       "    </tr>\n",
       "    <tr>\n",
       "      <th>1308</th>\n",
       "      <td>3</td>\n",
       "      <td>Zimmerman, Mr. Leo</td>\n",
       "      <td>male</td>\n",
       "      <td>29.0</td>\n",
       "      <td>315082</td>\n",
       "      <td>7.9</td>\n",
       "      <td>S</td>\n",
       "      <td>0</td>\n",
       "      <td>0</td>\n",
       "      <td>Zimmerman</td>\n",
       "      <td>Mr. Leo</td>\n",
       "      <td>Mr</td>\n",
       "      <td>Leo</td>\n",
       "    </tr>\n",
       "  </tbody>\n",
       "</table>\n",
       "<p>1309 rows × 13 columns</p>\n",
       "</div>"
      ],
      "text/plain": [
       "      pclass                                             name     sex   age  \\\n",
       "0          1                    Allen, Miss. Elisabeth Walton  female  29.0   \n",
       "1          1                   Allison, Master. Hudson Trevor    male   0.9   \n",
       "2          1                     Allison, Miss. Helen Loraine  female   2.0   \n",
       "3          1             Allison, Mr. Hudson Joshua Creighton    male  30.0   \n",
       "4          1  Allison, Mrs. Hudson J C (Bessie Waldo Daniels)  female  25.0   \n",
       "...      ...                                              ...     ...   ...   \n",
       "1304       3                             Zabour, Miss. Hileni  female  14.5   \n",
       "1305       3                            Zabour, Miss. Thamine  female  28.0   \n",
       "1306       3                        Zakarian, Mr. Mapriededer    male  26.5   \n",
       "1307       3                              Zakarian, Mr. Ortin    male  27.0   \n",
       "1308       3                               Zimmerman, Mr. Leo    male  29.0   \n",
       "\n",
       "      ticket   fare embarked  survived  family_count      lname  \\\n",
       "0      24160  211.3        S         1             0      Allen   \n",
       "1     113781  151.6        S         1             3    Allison   \n",
       "2     113781  151.6        S         0             3    Allison   \n",
       "3     113781  151.6        S         0             3    Allison   \n",
       "4     113781  151.6        S         0             3    Allison   \n",
       "...      ...    ...      ...       ...           ...        ...   \n",
       "1304    2665   14.5        C         0             1     Zabour   \n",
       "1305    2665   14.5        C         0             1     Zabour   \n",
       "1306    2656    7.2        C         0             0   Zakarian   \n",
       "1307    2670    7.2        C         0             0   Zakarian   \n",
       "1308  315082    7.9        S         0             0  Zimmerman   \n",
       "\n",
       "                                         temp    title  \\\n",
       "0                      Miss. Elisabeth Walton     Miss   \n",
       "1                       Master. Hudson Trevor   Master   \n",
       "2                         Miss. Helen Loraine     Miss   \n",
       "3                 Mr. Hudson Joshua Creighton       Mr   \n",
       "4      Mrs. Hudson J C (Bessie Waldo Daniels)      Mrs   \n",
       "...                                       ...      ...   \n",
       "1304                             Miss. Hileni     Miss   \n",
       "1305                            Miss. Thamine     Miss   \n",
       "1306                          Mr. Mapriededer       Mr   \n",
       "1307                                Mr. Ortin       Mr   \n",
       "1308                                  Mr. Leo       Mr   \n",
       "\n",
       "                                   fname  \n",
       "0                       Elisabeth Walton  \n",
       "1                          Hudson Trevor  \n",
       "2                          Helen Loraine  \n",
       "3                Hudson Joshua Creighton  \n",
       "4      Hudson J C (Bessie Waldo Daniels)  \n",
       "...                                  ...  \n",
       "1304                              Hileni  \n",
       "1305                             Thamine  \n",
       "1306                         Mapriededer  \n",
       "1307                               Ortin  \n",
       "1308                                 Leo  \n",
       "\n",
       "[1309 rows x 13 columns]"
      ]
     },
     "execution_count": 16,
     "metadata": {},
     "output_type": "execute_result"
    }
   ],
   "source": [
    "df"
   ]
  },
  {
   "cell_type": "code",
   "execution_count": 17,
   "id": "351cc4e3",
   "metadata": {},
   "outputs": [],
   "source": [
    "df=df.drop(columns='name')"
   ]
  },
  {
   "cell_type": "code",
   "execution_count": 18,
   "id": "d4dde862",
   "metadata": {},
   "outputs": [
    {
     "data": {
      "text/plain": [
       "Index(['pclass', 'sex', 'age', 'ticket', 'fare', 'embarked', 'survived',\n",
       "       'family_count', 'lname', 'temp', 'title', 'fname'],\n",
       "      dtype='object')"
      ]
     },
     "execution_count": 18,
     "metadata": {},
     "output_type": "execute_result"
    }
   ],
   "source": [
    "df.columns"
   ]
  },
  {
   "cell_type": "code",
   "execution_count": 19,
   "id": "6b23f085",
   "metadata": {},
   "outputs": [],
   "source": [
    "df=df.rename(columns={'sex':'gender'})"
   ]
  },
  {
   "cell_type": "markdown",
   "id": "68b09bfa",
   "metadata": {},
   "source": [
    "1...In map() is used to replace the new value if we have 3 value to change if we mentioned two values to change 3rd value gives none,---its applicable for series only\n",
    "2...in replace() will check only particular values and replace it ---applicable for series and dataframes"
   ]
  },
  {
   "cell_type": "code",
   "execution_count": 20,
   "id": "50a7717c",
   "metadata": {},
   "outputs": [],
   "source": [
    "df['embarked']=df['embarked'].map({'S':'southampton','C':'cherbourg','Q':'Queenstowmn'})\n",
    "df['embarked']=df['embarked'].str.title()"
   ]
  },
  {
   "cell_type": "code",
   "execution_count": 21,
   "id": "5b629e1e",
   "metadata": {},
   "outputs": [
    {
     "data": {
      "text/plain": [
       "ticket\n",
       "CA. 2343        11\n",
       "CA 2144          8\n",
       "1601             8\n",
       "347082           7\n",
       "S.O.C. 14879     7\n",
       "                ..\n",
       "364511           1\n",
       "364499           1\n",
       "349216           1\n",
       "383121           1\n",
       "112050           1\n",
       "Name: count, Length: 929, dtype: int64"
      ]
     },
     "execution_count": 21,
     "metadata": {},
     "output_type": "execute_result"
    }
   ],
   "source": [
    "a=df['ticket'].value_counts()\n",
    "a"
   ]
  },
  {
   "cell_type": "code",
   "execution_count": 22,
   "id": "a9af8c65",
   "metadata": {},
   "outputs": [
    {
     "data": {
      "text/plain": [
       "Index(['680', '13509', 'PC 17473', 'PC 17482', '11774', '110469', '113801',\n",
       "       '113501', '112377', '17475',\n",
       "       ...\n",
       "       '4138', '349247', '111426', '2641', '2673', '364511', '364499',\n",
       "       '349216', '383121', '112050'],\n",
       "      dtype='object', name='ticket', length=713)"
      ]
     },
     "execution_count": 22,
     "metadata": {},
     "output_type": "execute_result"
    }
   ],
   "source": [
    "solo_ticket=a[a==1].index\n",
    "solo_ticket"
   ]
  },
  {
   "cell_type": "code",
   "execution_count": 23,
   "id": "654675dc",
   "metadata": {},
   "outputs": [],
   "source": [
    "def f1(df):\n",
    "    if df['family_count']>0:\n",
    "        return 'family'\n",
    "    else:\n",
    "        if df['family_count'] in (solo_ticket):\n",
    "            return 'solo'\n",
    "        else:\n",
    "            return 'friends'"
   ]
  },
  {
   "cell_type": "code",
   "execution_count": 24,
   "id": "582c09a8",
   "metadata": {},
   "outputs": [],
   "source": [
    "df['companion_type']=df.apply(f1,axis=1)"
   ]
  },
  {
   "cell_type": "code",
   "execution_count": 25,
   "id": "e7388d1a",
   "metadata": {},
   "outputs": [
    {
     "data": {
      "text/html": [
       "<div>\n",
       "<style scoped>\n",
       "    .dataframe tbody tr th:only-of-type {\n",
       "        vertical-align: middle;\n",
       "    }\n",
       "\n",
       "    .dataframe tbody tr th {\n",
       "        vertical-align: top;\n",
       "    }\n",
       "\n",
       "    .dataframe thead th {\n",
       "        text-align: right;\n",
       "    }\n",
       "</style>\n",
       "<table border=\"1\" class=\"dataframe\">\n",
       "  <thead>\n",
       "    <tr style=\"text-align: right;\">\n",
       "      <th></th>\n",
       "      <th>pclass</th>\n",
       "      <th>gender</th>\n",
       "      <th>age</th>\n",
       "      <th>ticket</th>\n",
       "      <th>fare</th>\n",
       "      <th>embarked</th>\n",
       "      <th>survived</th>\n",
       "      <th>family_count</th>\n",
       "      <th>lname</th>\n",
       "      <th>temp</th>\n",
       "      <th>title</th>\n",
       "      <th>fname</th>\n",
       "      <th>companion_type</th>\n",
       "    </tr>\n",
       "  </thead>\n",
       "  <tbody>\n",
       "    <tr>\n",
       "      <th>0</th>\n",
       "      <td>1</td>\n",
       "      <td>female</td>\n",
       "      <td>29.0</td>\n",
       "      <td>24160</td>\n",
       "      <td>211.3</td>\n",
       "      <td>Southampton</td>\n",
       "      <td>1</td>\n",
       "      <td>0</td>\n",
       "      <td>Allen</td>\n",
       "      <td>Miss. Elisabeth Walton</td>\n",
       "      <td>Miss</td>\n",
       "      <td>Elisabeth Walton</td>\n",
       "      <td>friends</td>\n",
       "    </tr>\n",
       "    <tr>\n",
       "      <th>1</th>\n",
       "      <td>1</td>\n",
       "      <td>male</td>\n",
       "      <td>0.9</td>\n",
       "      <td>113781</td>\n",
       "      <td>151.6</td>\n",
       "      <td>Southampton</td>\n",
       "      <td>1</td>\n",
       "      <td>3</td>\n",
       "      <td>Allison</td>\n",
       "      <td>Master. Hudson Trevor</td>\n",
       "      <td>Master</td>\n",
       "      <td>Hudson Trevor</td>\n",
       "      <td>family</td>\n",
       "    </tr>\n",
       "    <tr>\n",
       "      <th>2</th>\n",
       "      <td>1</td>\n",
       "      <td>female</td>\n",
       "      <td>2.0</td>\n",
       "      <td>113781</td>\n",
       "      <td>151.6</td>\n",
       "      <td>Southampton</td>\n",
       "      <td>0</td>\n",
       "      <td>3</td>\n",
       "      <td>Allison</td>\n",
       "      <td>Miss. Helen Loraine</td>\n",
       "      <td>Miss</td>\n",
       "      <td>Helen Loraine</td>\n",
       "      <td>family</td>\n",
       "    </tr>\n",
       "    <tr>\n",
       "      <th>3</th>\n",
       "      <td>1</td>\n",
       "      <td>male</td>\n",
       "      <td>30.0</td>\n",
       "      <td>113781</td>\n",
       "      <td>151.6</td>\n",
       "      <td>Southampton</td>\n",
       "      <td>0</td>\n",
       "      <td>3</td>\n",
       "      <td>Allison</td>\n",
       "      <td>Mr. Hudson Joshua Creighton</td>\n",
       "      <td>Mr</td>\n",
       "      <td>Hudson Joshua Creighton</td>\n",
       "      <td>family</td>\n",
       "    </tr>\n",
       "    <tr>\n",
       "      <th>4</th>\n",
       "      <td>1</td>\n",
       "      <td>female</td>\n",
       "      <td>25.0</td>\n",
       "      <td>113781</td>\n",
       "      <td>151.6</td>\n",
       "      <td>Southampton</td>\n",
       "      <td>0</td>\n",
       "      <td>3</td>\n",
       "      <td>Allison</td>\n",
       "      <td>Mrs. Hudson J C (Bessie Waldo Daniels)</td>\n",
       "      <td>Mrs</td>\n",
       "      <td>Hudson J C (Bessie Waldo Daniels)</td>\n",
       "      <td>family</td>\n",
       "    </tr>\n",
       "    <tr>\n",
       "      <th>...</th>\n",
       "      <td>...</td>\n",
       "      <td>...</td>\n",
       "      <td>...</td>\n",
       "      <td>...</td>\n",
       "      <td>...</td>\n",
       "      <td>...</td>\n",
       "      <td>...</td>\n",
       "      <td>...</td>\n",
       "      <td>...</td>\n",
       "      <td>...</td>\n",
       "      <td>...</td>\n",
       "      <td>...</td>\n",
       "      <td>...</td>\n",
       "    </tr>\n",
       "    <tr>\n",
       "      <th>1304</th>\n",
       "      <td>3</td>\n",
       "      <td>female</td>\n",
       "      <td>14.5</td>\n",
       "      <td>2665</td>\n",
       "      <td>14.5</td>\n",
       "      <td>Cherbourg</td>\n",
       "      <td>0</td>\n",
       "      <td>1</td>\n",
       "      <td>Zabour</td>\n",
       "      <td>Miss. Hileni</td>\n",
       "      <td>Miss</td>\n",
       "      <td>Hileni</td>\n",
       "      <td>family</td>\n",
       "    </tr>\n",
       "    <tr>\n",
       "      <th>1305</th>\n",
       "      <td>3</td>\n",
       "      <td>female</td>\n",
       "      <td>28.0</td>\n",
       "      <td>2665</td>\n",
       "      <td>14.5</td>\n",
       "      <td>Cherbourg</td>\n",
       "      <td>0</td>\n",
       "      <td>1</td>\n",
       "      <td>Zabour</td>\n",
       "      <td>Miss. Thamine</td>\n",
       "      <td>Miss</td>\n",
       "      <td>Thamine</td>\n",
       "      <td>family</td>\n",
       "    </tr>\n",
       "    <tr>\n",
       "      <th>1306</th>\n",
       "      <td>3</td>\n",
       "      <td>male</td>\n",
       "      <td>26.5</td>\n",
       "      <td>2656</td>\n",
       "      <td>7.2</td>\n",
       "      <td>Cherbourg</td>\n",
       "      <td>0</td>\n",
       "      <td>0</td>\n",
       "      <td>Zakarian</td>\n",
       "      <td>Mr. Mapriededer</td>\n",
       "      <td>Mr</td>\n",
       "      <td>Mapriededer</td>\n",
       "      <td>friends</td>\n",
       "    </tr>\n",
       "    <tr>\n",
       "      <th>1307</th>\n",
       "      <td>3</td>\n",
       "      <td>male</td>\n",
       "      <td>27.0</td>\n",
       "      <td>2670</td>\n",
       "      <td>7.2</td>\n",
       "      <td>Cherbourg</td>\n",
       "      <td>0</td>\n",
       "      <td>0</td>\n",
       "      <td>Zakarian</td>\n",
       "      <td>Mr. Ortin</td>\n",
       "      <td>Mr</td>\n",
       "      <td>Ortin</td>\n",
       "      <td>friends</td>\n",
       "    </tr>\n",
       "    <tr>\n",
       "      <th>1308</th>\n",
       "      <td>3</td>\n",
       "      <td>male</td>\n",
       "      <td>29.0</td>\n",
       "      <td>315082</td>\n",
       "      <td>7.9</td>\n",
       "      <td>Southampton</td>\n",
       "      <td>0</td>\n",
       "      <td>0</td>\n",
       "      <td>Zimmerman</td>\n",
       "      <td>Mr. Leo</td>\n",
       "      <td>Mr</td>\n",
       "      <td>Leo</td>\n",
       "      <td>friends</td>\n",
       "    </tr>\n",
       "  </tbody>\n",
       "</table>\n",
       "<p>1309 rows × 13 columns</p>\n",
       "</div>"
      ],
      "text/plain": [
       "      pclass  gender   age  ticket   fare     embarked  survived  \\\n",
       "0          1  female  29.0   24160  211.3  Southampton         1   \n",
       "1          1    male   0.9  113781  151.6  Southampton         1   \n",
       "2          1  female   2.0  113781  151.6  Southampton         0   \n",
       "3          1    male  30.0  113781  151.6  Southampton         0   \n",
       "4          1  female  25.0  113781  151.6  Southampton         0   \n",
       "...      ...     ...   ...     ...    ...          ...       ...   \n",
       "1304       3  female  14.5    2665   14.5    Cherbourg         0   \n",
       "1305       3  female  28.0    2665   14.5    Cherbourg         0   \n",
       "1306       3    male  26.5    2656    7.2    Cherbourg         0   \n",
       "1307       3    male  27.0    2670    7.2    Cherbourg         0   \n",
       "1308       3    male  29.0  315082    7.9  Southampton         0   \n",
       "\n",
       "      family_count      lname                                     temp  \\\n",
       "0                0      Allen                   Miss. Elisabeth Walton   \n",
       "1                3    Allison                    Master. Hudson Trevor   \n",
       "2                3    Allison                      Miss. Helen Loraine   \n",
       "3                3    Allison              Mr. Hudson Joshua Creighton   \n",
       "4                3    Allison   Mrs. Hudson J C (Bessie Waldo Daniels)   \n",
       "...            ...        ...                                      ...   \n",
       "1304             1     Zabour                             Miss. Hileni   \n",
       "1305             1     Zabour                            Miss. Thamine   \n",
       "1306             0   Zakarian                          Mr. Mapriededer   \n",
       "1307             0   Zakarian                                Mr. Ortin   \n",
       "1308             0  Zimmerman                                  Mr. Leo   \n",
       "\n",
       "        title                               fname companion_type  \n",
       "0        Miss                    Elisabeth Walton        friends  \n",
       "1      Master                       Hudson Trevor         family  \n",
       "2        Miss                       Helen Loraine         family  \n",
       "3          Mr             Hudson Joshua Creighton         family  \n",
       "4         Mrs   Hudson J C (Bessie Waldo Daniels)         family  \n",
       "...       ...                                 ...            ...  \n",
       "1304     Miss                              Hileni         family  \n",
       "1305     Miss                             Thamine         family  \n",
       "1306       Mr                         Mapriededer        friends  \n",
       "1307       Mr                               Ortin        friends  \n",
       "1308       Mr                                 Leo        friends  \n",
       "\n",
       "[1309 rows x 13 columns]"
      ]
     },
     "execution_count": 25,
     "metadata": {},
     "output_type": "execute_result"
    }
   ],
   "source": [
    "df"
   ]
  },
  {
   "cell_type": "code",
   "execution_count": 26,
   "id": "31d7a794",
   "metadata": {},
   "outputs": [],
   "source": [
    "df['age_category']=pd.cut(df['age'],bins=[0,15,25,60,81],labels=['child','teen','adult','senior'])"
   ]
  },
  {
   "cell_type": "code",
   "execution_count": 27,
   "id": "f69ba27c",
   "metadata": {},
   "outputs": [
    {
     "data": {
      "text/html": [
       "<div>\n",
       "<style scoped>\n",
       "    .dataframe tbody tr th:only-of-type {\n",
       "        vertical-align: middle;\n",
       "    }\n",
       "\n",
       "    .dataframe tbody tr th {\n",
       "        vertical-align: top;\n",
       "    }\n",
       "\n",
       "    .dataframe thead th {\n",
       "        text-align: right;\n",
       "    }\n",
       "</style>\n",
       "<table border=\"1\" class=\"dataframe\">\n",
       "  <thead>\n",
       "    <tr style=\"text-align: right;\">\n",
       "      <th></th>\n",
       "      <th>pclass</th>\n",
       "      <th>gender</th>\n",
       "      <th>age</th>\n",
       "      <th>ticket</th>\n",
       "      <th>fare</th>\n",
       "      <th>embarked</th>\n",
       "      <th>survived</th>\n",
       "      <th>family_count</th>\n",
       "      <th>lname</th>\n",
       "      <th>temp</th>\n",
       "      <th>title</th>\n",
       "      <th>fname</th>\n",
       "      <th>companion_type</th>\n",
       "      <th>age_category</th>\n",
       "    </tr>\n",
       "  </thead>\n",
       "  <tbody>\n",
       "    <tr>\n",
       "      <th>0</th>\n",
       "      <td>1</td>\n",
       "      <td>female</td>\n",
       "      <td>29.0</td>\n",
       "      <td>24160</td>\n",
       "      <td>211.3</td>\n",
       "      <td>Southampton</td>\n",
       "      <td>1</td>\n",
       "      <td>0</td>\n",
       "      <td>Allen</td>\n",
       "      <td>Miss. Elisabeth Walton</td>\n",
       "      <td>Miss</td>\n",
       "      <td>Elisabeth Walton</td>\n",
       "      <td>friends</td>\n",
       "      <td>adult</td>\n",
       "    </tr>\n",
       "    <tr>\n",
       "      <th>1</th>\n",
       "      <td>1</td>\n",
       "      <td>male</td>\n",
       "      <td>0.9</td>\n",
       "      <td>113781</td>\n",
       "      <td>151.6</td>\n",
       "      <td>Southampton</td>\n",
       "      <td>1</td>\n",
       "      <td>3</td>\n",
       "      <td>Allison</td>\n",
       "      <td>Master. Hudson Trevor</td>\n",
       "      <td>Master</td>\n",
       "      <td>Hudson Trevor</td>\n",
       "      <td>family</td>\n",
       "      <td>child</td>\n",
       "    </tr>\n",
       "    <tr>\n",
       "      <th>2</th>\n",
       "      <td>1</td>\n",
       "      <td>female</td>\n",
       "      <td>2.0</td>\n",
       "      <td>113781</td>\n",
       "      <td>151.6</td>\n",
       "      <td>Southampton</td>\n",
       "      <td>0</td>\n",
       "      <td>3</td>\n",
       "      <td>Allison</td>\n",
       "      <td>Miss. Helen Loraine</td>\n",
       "      <td>Miss</td>\n",
       "      <td>Helen Loraine</td>\n",
       "      <td>family</td>\n",
       "      <td>child</td>\n",
       "    </tr>\n",
       "    <tr>\n",
       "      <th>3</th>\n",
       "      <td>1</td>\n",
       "      <td>male</td>\n",
       "      <td>30.0</td>\n",
       "      <td>113781</td>\n",
       "      <td>151.6</td>\n",
       "      <td>Southampton</td>\n",
       "      <td>0</td>\n",
       "      <td>3</td>\n",
       "      <td>Allison</td>\n",
       "      <td>Mr. Hudson Joshua Creighton</td>\n",
       "      <td>Mr</td>\n",
       "      <td>Hudson Joshua Creighton</td>\n",
       "      <td>family</td>\n",
       "      <td>adult</td>\n",
       "    </tr>\n",
       "    <tr>\n",
       "      <th>4</th>\n",
       "      <td>1</td>\n",
       "      <td>female</td>\n",
       "      <td>25.0</td>\n",
       "      <td>113781</td>\n",
       "      <td>151.6</td>\n",
       "      <td>Southampton</td>\n",
       "      <td>0</td>\n",
       "      <td>3</td>\n",
       "      <td>Allison</td>\n",
       "      <td>Mrs. Hudson J C (Bessie Waldo Daniels)</td>\n",
       "      <td>Mrs</td>\n",
       "      <td>Hudson J C (Bessie Waldo Daniels)</td>\n",
       "      <td>family</td>\n",
       "      <td>teen</td>\n",
       "    </tr>\n",
       "    <tr>\n",
       "      <th>...</th>\n",
       "      <td>...</td>\n",
       "      <td>...</td>\n",
       "      <td>...</td>\n",
       "      <td>...</td>\n",
       "      <td>...</td>\n",
       "      <td>...</td>\n",
       "      <td>...</td>\n",
       "      <td>...</td>\n",
       "      <td>...</td>\n",
       "      <td>...</td>\n",
       "      <td>...</td>\n",
       "      <td>...</td>\n",
       "      <td>...</td>\n",
       "      <td>...</td>\n",
       "    </tr>\n",
       "    <tr>\n",
       "      <th>1304</th>\n",
       "      <td>3</td>\n",
       "      <td>female</td>\n",
       "      <td>14.5</td>\n",
       "      <td>2665</td>\n",
       "      <td>14.5</td>\n",
       "      <td>Cherbourg</td>\n",
       "      <td>0</td>\n",
       "      <td>1</td>\n",
       "      <td>Zabour</td>\n",
       "      <td>Miss. Hileni</td>\n",
       "      <td>Miss</td>\n",
       "      <td>Hileni</td>\n",
       "      <td>family</td>\n",
       "      <td>child</td>\n",
       "    </tr>\n",
       "    <tr>\n",
       "      <th>1305</th>\n",
       "      <td>3</td>\n",
       "      <td>female</td>\n",
       "      <td>28.0</td>\n",
       "      <td>2665</td>\n",
       "      <td>14.5</td>\n",
       "      <td>Cherbourg</td>\n",
       "      <td>0</td>\n",
       "      <td>1</td>\n",
       "      <td>Zabour</td>\n",
       "      <td>Miss. Thamine</td>\n",
       "      <td>Miss</td>\n",
       "      <td>Thamine</td>\n",
       "      <td>family</td>\n",
       "      <td>adult</td>\n",
       "    </tr>\n",
       "    <tr>\n",
       "      <th>1306</th>\n",
       "      <td>3</td>\n",
       "      <td>male</td>\n",
       "      <td>26.5</td>\n",
       "      <td>2656</td>\n",
       "      <td>7.2</td>\n",
       "      <td>Cherbourg</td>\n",
       "      <td>0</td>\n",
       "      <td>0</td>\n",
       "      <td>Zakarian</td>\n",
       "      <td>Mr. Mapriededer</td>\n",
       "      <td>Mr</td>\n",
       "      <td>Mapriededer</td>\n",
       "      <td>friends</td>\n",
       "      <td>adult</td>\n",
       "    </tr>\n",
       "    <tr>\n",
       "      <th>1307</th>\n",
       "      <td>3</td>\n",
       "      <td>male</td>\n",
       "      <td>27.0</td>\n",
       "      <td>2670</td>\n",
       "      <td>7.2</td>\n",
       "      <td>Cherbourg</td>\n",
       "      <td>0</td>\n",
       "      <td>0</td>\n",
       "      <td>Zakarian</td>\n",
       "      <td>Mr. Ortin</td>\n",
       "      <td>Mr</td>\n",
       "      <td>Ortin</td>\n",
       "      <td>friends</td>\n",
       "      <td>adult</td>\n",
       "    </tr>\n",
       "    <tr>\n",
       "      <th>1308</th>\n",
       "      <td>3</td>\n",
       "      <td>male</td>\n",
       "      <td>29.0</td>\n",
       "      <td>315082</td>\n",
       "      <td>7.9</td>\n",
       "      <td>Southampton</td>\n",
       "      <td>0</td>\n",
       "      <td>0</td>\n",
       "      <td>Zimmerman</td>\n",
       "      <td>Mr. Leo</td>\n",
       "      <td>Mr</td>\n",
       "      <td>Leo</td>\n",
       "      <td>friends</td>\n",
       "      <td>adult</td>\n",
       "    </tr>\n",
       "  </tbody>\n",
       "</table>\n",
       "<p>1309 rows × 14 columns</p>\n",
       "</div>"
      ],
      "text/plain": [
       "      pclass  gender   age  ticket   fare     embarked  survived  \\\n",
       "0          1  female  29.0   24160  211.3  Southampton         1   \n",
       "1          1    male   0.9  113781  151.6  Southampton         1   \n",
       "2          1  female   2.0  113781  151.6  Southampton         0   \n",
       "3          1    male  30.0  113781  151.6  Southampton         0   \n",
       "4          1  female  25.0  113781  151.6  Southampton         0   \n",
       "...      ...     ...   ...     ...    ...          ...       ...   \n",
       "1304       3  female  14.5    2665   14.5    Cherbourg         0   \n",
       "1305       3  female  28.0    2665   14.5    Cherbourg         0   \n",
       "1306       3    male  26.5    2656    7.2    Cherbourg         0   \n",
       "1307       3    male  27.0    2670    7.2    Cherbourg         0   \n",
       "1308       3    male  29.0  315082    7.9  Southampton         0   \n",
       "\n",
       "      family_count      lname                                     temp  \\\n",
       "0                0      Allen                   Miss. Elisabeth Walton   \n",
       "1                3    Allison                    Master. Hudson Trevor   \n",
       "2                3    Allison                      Miss. Helen Loraine   \n",
       "3                3    Allison              Mr. Hudson Joshua Creighton   \n",
       "4                3    Allison   Mrs. Hudson J C (Bessie Waldo Daniels)   \n",
       "...            ...        ...                                      ...   \n",
       "1304             1     Zabour                             Miss. Hileni   \n",
       "1305             1     Zabour                            Miss. Thamine   \n",
       "1306             0   Zakarian                          Mr. Mapriededer   \n",
       "1307             0   Zakarian                                Mr. Ortin   \n",
       "1308             0  Zimmerman                                  Mr. Leo   \n",
       "\n",
       "        title                               fname companion_type age_category  \n",
       "0        Miss                    Elisabeth Walton        friends        adult  \n",
       "1      Master                       Hudson Trevor         family        child  \n",
       "2        Miss                       Helen Loraine         family        child  \n",
       "3          Mr             Hudson Joshua Creighton         family        adult  \n",
       "4         Mrs   Hudson J C (Bessie Waldo Daniels)         family         teen  \n",
       "...       ...                                 ...            ...          ...  \n",
       "1304     Miss                              Hileni         family        child  \n",
       "1305     Miss                             Thamine         family        adult  \n",
       "1306       Mr                         Mapriededer        friends        adult  \n",
       "1307       Mr                               Ortin        friends        adult  \n",
       "1308       Mr                                 Leo        friends        adult  \n",
       "\n",
       "[1309 rows x 14 columns]"
      ]
     },
     "execution_count": 27,
     "metadata": {},
     "output_type": "execute_result"
    }
   ],
   "source": [
    "df"
   ]
  },
  {
   "cell_type": "code",
   "execution_count": 28,
   "id": "f87686ee",
   "metadata": {},
   "outputs": [
    {
     "data": {
      "text/plain": [
       "Index(['pclass', 'gender', 'age', 'ticket', 'fare', 'embarked', 'survived',\n",
       "       'family_count', 'lname', 'temp', 'title', 'fname', 'companion_type',\n",
       "       'age_category'],\n",
       "      dtype='object')"
      ]
     },
     "execution_count": 28,
     "metadata": {},
     "output_type": "execute_result"
    }
   ],
   "source": [
    "df.columns"
   ]
  },
  {
   "cell_type": "code",
   "execution_count": 29,
   "id": "544e3b04",
   "metadata": {},
   "outputs": [],
   "source": [
    "lst=['ticket','title','fname','lname','gender','age','age_category','family_count','companion_type','pclass','embarked','fare','survived']"
   ]
  },
  {
   "cell_type": "code",
   "execution_count": 30,
   "id": "2ceabc62",
   "metadata": {},
   "outputs": [
    {
     "data": {
      "text/html": [
       "<div>\n",
       "<style scoped>\n",
       "    .dataframe tbody tr th:only-of-type {\n",
       "        vertical-align: middle;\n",
       "    }\n",
       "\n",
       "    .dataframe tbody tr th {\n",
       "        vertical-align: top;\n",
       "    }\n",
       "\n",
       "    .dataframe thead th {\n",
       "        text-align: right;\n",
       "    }\n",
       "</style>\n",
       "<table border=\"1\" class=\"dataframe\">\n",
       "  <thead>\n",
       "    <tr style=\"text-align: right;\">\n",
       "      <th></th>\n",
       "      <th>ticket</th>\n",
       "      <th>title</th>\n",
       "      <th>fname</th>\n",
       "      <th>lname</th>\n",
       "      <th>gender</th>\n",
       "      <th>age</th>\n",
       "      <th>age_category</th>\n",
       "      <th>family_count</th>\n",
       "      <th>companion_type</th>\n",
       "      <th>pclass</th>\n",
       "      <th>embarked</th>\n",
       "      <th>fare</th>\n",
       "      <th>survived</th>\n",
       "    </tr>\n",
       "  </thead>\n",
       "  <tbody>\n",
       "    <tr>\n",
       "      <th>0</th>\n",
       "      <td>24160</td>\n",
       "      <td>Miss</td>\n",
       "      <td>Elisabeth Walton</td>\n",
       "      <td>Allen</td>\n",
       "      <td>female</td>\n",
       "      <td>29.0</td>\n",
       "      <td>adult</td>\n",
       "      <td>0</td>\n",
       "      <td>friends</td>\n",
       "      <td>1</td>\n",
       "      <td>Southampton</td>\n",
       "      <td>211.3</td>\n",
       "      <td>1</td>\n",
       "    </tr>\n",
       "    <tr>\n",
       "      <th>1</th>\n",
       "      <td>113781</td>\n",
       "      <td>Master</td>\n",
       "      <td>Hudson Trevor</td>\n",
       "      <td>Allison</td>\n",
       "      <td>male</td>\n",
       "      <td>0.9</td>\n",
       "      <td>child</td>\n",
       "      <td>3</td>\n",
       "      <td>family</td>\n",
       "      <td>1</td>\n",
       "      <td>Southampton</td>\n",
       "      <td>151.6</td>\n",
       "      <td>1</td>\n",
       "    </tr>\n",
       "    <tr>\n",
       "      <th>2</th>\n",
       "      <td>113781</td>\n",
       "      <td>Miss</td>\n",
       "      <td>Helen Loraine</td>\n",
       "      <td>Allison</td>\n",
       "      <td>female</td>\n",
       "      <td>2.0</td>\n",
       "      <td>child</td>\n",
       "      <td>3</td>\n",
       "      <td>family</td>\n",
       "      <td>1</td>\n",
       "      <td>Southampton</td>\n",
       "      <td>151.6</td>\n",
       "      <td>0</td>\n",
       "    </tr>\n",
       "    <tr>\n",
       "      <th>3</th>\n",
       "      <td>113781</td>\n",
       "      <td>Mr</td>\n",
       "      <td>Hudson Joshua Creighton</td>\n",
       "      <td>Allison</td>\n",
       "      <td>male</td>\n",
       "      <td>30.0</td>\n",
       "      <td>adult</td>\n",
       "      <td>3</td>\n",
       "      <td>family</td>\n",
       "      <td>1</td>\n",
       "      <td>Southampton</td>\n",
       "      <td>151.6</td>\n",
       "      <td>0</td>\n",
       "    </tr>\n",
       "    <tr>\n",
       "      <th>4</th>\n",
       "      <td>113781</td>\n",
       "      <td>Mrs</td>\n",
       "      <td>Hudson J C (Bessie Waldo Daniels)</td>\n",
       "      <td>Allison</td>\n",
       "      <td>female</td>\n",
       "      <td>25.0</td>\n",
       "      <td>teen</td>\n",
       "      <td>3</td>\n",
       "      <td>family</td>\n",
       "      <td>1</td>\n",
       "      <td>Southampton</td>\n",
       "      <td>151.6</td>\n",
       "      <td>0</td>\n",
       "    </tr>\n",
       "    <tr>\n",
       "      <th>...</th>\n",
       "      <td>...</td>\n",
       "      <td>...</td>\n",
       "      <td>...</td>\n",
       "      <td>...</td>\n",
       "      <td>...</td>\n",
       "      <td>...</td>\n",
       "      <td>...</td>\n",
       "      <td>...</td>\n",
       "      <td>...</td>\n",
       "      <td>...</td>\n",
       "      <td>...</td>\n",
       "      <td>...</td>\n",
       "      <td>...</td>\n",
       "    </tr>\n",
       "    <tr>\n",
       "      <th>1304</th>\n",
       "      <td>2665</td>\n",
       "      <td>Miss</td>\n",
       "      <td>Hileni</td>\n",
       "      <td>Zabour</td>\n",
       "      <td>female</td>\n",
       "      <td>14.5</td>\n",
       "      <td>child</td>\n",
       "      <td>1</td>\n",
       "      <td>family</td>\n",
       "      <td>3</td>\n",
       "      <td>Cherbourg</td>\n",
       "      <td>14.5</td>\n",
       "      <td>0</td>\n",
       "    </tr>\n",
       "    <tr>\n",
       "      <th>1305</th>\n",
       "      <td>2665</td>\n",
       "      <td>Miss</td>\n",
       "      <td>Thamine</td>\n",
       "      <td>Zabour</td>\n",
       "      <td>female</td>\n",
       "      <td>28.0</td>\n",
       "      <td>adult</td>\n",
       "      <td>1</td>\n",
       "      <td>family</td>\n",
       "      <td>3</td>\n",
       "      <td>Cherbourg</td>\n",
       "      <td>14.5</td>\n",
       "      <td>0</td>\n",
       "    </tr>\n",
       "    <tr>\n",
       "      <th>1306</th>\n",
       "      <td>2656</td>\n",
       "      <td>Mr</td>\n",
       "      <td>Mapriededer</td>\n",
       "      <td>Zakarian</td>\n",
       "      <td>male</td>\n",
       "      <td>26.5</td>\n",
       "      <td>adult</td>\n",
       "      <td>0</td>\n",
       "      <td>friends</td>\n",
       "      <td>3</td>\n",
       "      <td>Cherbourg</td>\n",
       "      <td>7.2</td>\n",
       "      <td>0</td>\n",
       "    </tr>\n",
       "    <tr>\n",
       "      <th>1307</th>\n",
       "      <td>2670</td>\n",
       "      <td>Mr</td>\n",
       "      <td>Ortin</td>\n",
       "      <td>Zakarian</td>\n",
       "      <td>male</td>\n",
       "      <td>27.0</td>\n",
       "      <td>adult</td>\n",
       "      <td>0</td>\n",
       "      <td>friends</td>\n",
       "      <td>3</td>\n",
       "      <td>Cherbourg</td>\n",
       "      <td>7.2</td>\n",
       "      <td>0</td>\n",
       "    </tr>\n",
       "    <tr>\n",
       "      <th>1308</th>\n",
       "      <td>315082</td>\n",
       "      <td>Mr</td>\n",
       "      <td>Leo</td>\n",
       "      <td>Zimmerman</td>\n",
       "      <td>male</td>\n",
       "      <td>29.0</td>\n",
       "      <td>adult</td>\n",
       "      <td>0</td>\n",
       "      <td>friends</td>\n",
       "      <td>3</td>\n",
       "      <td>Southampton</td>\n",
       "      <td>7.9</td>\n",
       "      <td>0</td>\n",
       "    </tr>\n",
       "  </tbody>\n",
       "</table>\n",
       "<p>1309 rows × 13 columns</p>\n",
       "</div>"
      ],
      "text/plain": [
       "      ticket    title                               fname      lname  gender  \\\n",
       "0      24160     Miss                    Elisabeth Walton      Allen  female   \n",
       "1     113781   Master                       Hudson Trevor    Allison    male   \n",
       "2     113781     Miss                       Helen Loraine    Allison  female   \n",
       "3     113781       Mr             Hudson Joshua Creighton    Allison    male   \n",
       "4     113781      Mrs   Hudson J C (Bessie Waldo Daniels)    Allison  female   \n",
       "...      ...      ...                                 ...        ...     ...   \n",
       "1304    2665     Miss                              Hileni     Zabour  female   \n",
       "1305    2665     Miss                             Thamine     Zabour  female   \n",
       "1306    2656       Mr                         Mapriededer   Zakarian    male   \n",
       "1307    2670       Mr                               Ortin   Zakarian    male   \n",
       "1308  315082       Mr                                 Leo  Zimmerman    male   \n",
       "\n",
       "       age age_category  family_count companion_type  pclass     embarked  \\\n",
       "0     29.0        adult             0        friends       1  Southampton   \n",
       "1      0.9        child             3         family       1  Southampton   \n",
       "2      2.0        child             3         family       1  Southampton   \n",
       "3     30.0        adult             3         family       1  Southampton   \n",
       "4     25.0         teen             3         family       1  Southampton   \n",
       "...    ...          ...           ...            ...     ...          ...   \n",
       "1304  14.5        child             1         family       3    Cherbourg   \n",
       "1305  28.0        adult             1         family       3    Cherbourg   \n",
       "1306  26.5        adult             0        friends       3    Cherbourg   \n",
       "1307  27.0        adult             0        friends       3    Cherbourg   \n",
       "1308  29.0        adult             0        friends       3  Southampton   \n",
       "\n",
       "       fare  survived  \n",
       "0     211.3         1  \n",
       "1     151.6         1  \n",
       "2     151.6         0  \n",
       "3     151.6         0  \n",
       "4     151.6         0  \n",
       "...     ...       ...  \n",
       "1304   14.5         0  \n",
       "1305   14.5         0  \n",
       "1306    7.2         0  \n",
       "1307    7.2         0  \n",
       "1308    7.9         0  \n",
       "\n",
       "[1309 rows x 13 columns]"
      ]
     },
     "execution_count": 30,
     "metadata": {},
     "output_type": "execute_result"
    }
   ],
   "source": [
    "df[lst]"
   ]
  },
  {
   "cell_type": "code",
   "execution_count": 31,
   "id": "f96b0e15",
   "metadata": {},
   "outputs": [
    {
     "data": {
      "text/html": [
       "<div>\n",
       "<style scoped>\n",
       "    .dataframe tbody tr th:only-of-type {\n",
       "        vertical-align: middle;\n",
       "    }\n",
       "\n",
       "    .dataframe tbody tr th {\n",
       "        vertical-align: top;\n",
       "    }\n",
       "\n",
       "    .dataframe thead th {\n",
       "        text-align: right;\n",
       "    }\n",
       "</style>\n",
       "<table border=\"1\" class=\"dataframe\">\n",
       "  <thead>\n",
       "    <tr style=\"text-align: right;\">\n",
       "      <th></th>\n",
       "      <th>pclass</th>\n",
       "      <th>gender</th>\n",
       "      <th>age</th>\n",
       "      <th>ticket</th>\n",
       "      <th>fare</th>\n",
       "      <th>embarked</th>\n",
       "      <th>survived</th>\n",
       "      <th>family_count</th>\n",
       "      <th>lname</th>\n",
       "      <th>temp</th>\n",
       "      <th>title</th>\n",
       "      <th>fname</th>\n",
       "      <th>companion_type</th>\n",
       "      <th>age_category</th>\n",
       "    </tr>\n",
       "  </thead>\n",
       "  <tbody>\n",
       "    <tr>\n",
       "      <th>0</th>\n",
       "      <td>1</td>\n",
       "      <td>female</td>\n",
       "      <td>29.0</td>\n",
       "      <td>24160</td>\n",
       "      <td>211.3</td>\n",
       "      <td>Southampton</td>\n",
       "      <td>1</td>\n",
       "      <td>0</td>\n",
       "      <td>Allen</td>\n",
       "      <td>Miss. Elisabeth Walton</td>\n",
       "      <td>Miss</td>\n",
       "      <td>Elisabeth Walton</td>\n",
       "      <td>friends</td>\n",
       "      <td>adult</td>\n",
       "    </tr>\n",
       "    <tr>\n",
       "      <th>1</th>\n",
       "      <td>1</td>\n",
       "      <td>male</td>\n",
       "      <td>0.9</td>\n",
       "      <td>113781</td>\n",
       "      <td>151.6</td>\n",
       "      <td>Southampton</td>\n",
       "      <td>1</td>\n",
       "      <td>3</td>\n",
       "      <td>Allison</td>\n",
       "      <td>Master. Hudson Trevor</td>\n",
       "      <td>Master</td>\n",
       "      <td>Hudson Trevor</td>\n",
       "      <td>family</td>\n",
       "      <td>child</td>\n",
       "    </tr>\n",
       "    <tr>\n",
       "      <th>2</th>\n",
       "      <td>1</td>\n",
       "      <td>female</td>\n",
       "      <td>2.0</td>\n",
       "      <td>113781</td>\n",
       "      <td>151.6</td>\n",
       "      <td>Southampton</td>\n",
       "      <td>0</td>\n",
       "      <td>3</td>\n",
       "      <td>Allison</td>\n",
       "      <td>Miss. Helen Loraine</td>\n",
       "      <td>Miss</td>\n",
       "      <td>Helen Loraine</td>\n",
       "      <td>family</td>\n",
       "      <td>child</td>\n",
       "    </tr>\n",
       "    <tr>\n",
       "      <th>3</th>\n",
       "      <td>1</td>\n",
       "      <td>male</td>\n",
       "      <td>30.0</td>\n",
       "      <td>113781</td>\n",
       "      <td>151.6</td>\n",
       "      <td>Southampton</td>\n",
       "      <td>0</td>\n",
       "      <td>3</td>\n",
       "      <td>Allison</td>\n",
       "      <td>Mr. Hudson Joshua Creighton</td>\n",
       "      <td>Mr</td>\n",
       "      <td>Hudson Joshua Creighton</td>\n",
       "      <td>family</td>\n",
       "      <td>adult</td>\n",
       "    </tr>\n",
       "    <tr>\n",
       "      <th>4</th>\n",
       "      <td>1</td>\n",
       "      <td>female</td>\n",
       "      <td>25.0</td>\n",
       "      <td>113781</td>\n",
       "      <td>151.6</td>\n",
       "      <td>Southampton</td>\n",
       "      <td>0</td>\n",
       "      <td>3</td>\n",
       "      <td>Allison</td>\n",
       "      <td>Mrs. Hudson J C (Bessie Waldo Daniels)</td>\n",
       "      <td>Mrs</td>\n",
       "      <td>Hudson J C (Bessie Waldo Daniels)</td>\n",
       "      <td>family</td>\n",
       "      <td>teen</td>\n",
       "    </tr>\n",
       "  </tbody>\n",
       "</table>\n",
       "</div>"
      ],
      "text/plain": [
       "   pclass  gender   age  ticket   fare     embarked  survived  family_count  \\\n",
       "0       1  female  29.0   24160  211.3  Southampton         1             0   \n",
       "1       1    male   0.9  113781  151.6  Southampton         1             3   \n",
       "2       1  female   2.0  113781  151.6  Southampton         0             3   \n",
       "3       1    male  30.0  113781  151.6  Southampton         0             3   \n",
       "4       1  female  25.0  113781  151.6  Southampton         0             3   \n",
       "\n",
       "     lname                                     temp    title  \\\n",
       "0    Allen                   Miss. Elisabeth Walton     Miss   \n",
       "1  Allison                    Master. Hudson Trevor   Master   \n",
       "2  Allison                      Miss. Helen Loraine     Miss   \n",
       "3  Allison              Mr. Hudson Joshua Creighton       Mr   \n",
       "4  Allison   Mrs. Hudson J C (Bessie Waldo Daniels)      Mrs   \n",
       "\n",
       "                                fname companion_type age_category  \n",
       "0                    Elisabeth Walton        friends        adult  \n",
       "1                       Hudson Trevor         family        child  \n",
       "2                       Helen Loraine         family        child  \n",
       "3             Hudson Joshua Creighton         family        adult  \n",
       "4   Hudson J C (Bessie Waldo Daniels)         family         teen  "
      ]
     },
     "execution_count": 31,
     "metadata": {},
     "output_type": "execute_result"
    }
   ],
   "source": [
    "\n",
    "df.sort_values(by=['ticket'])\n",
    "df.head()"
   ]
  },
  {
   "cell_type": "markdown",
   "id": "35d035fd",
   "metadata": {},
   "source": [
    "# level-1"
   ]
  },
  {
   "cell_type": "markdown",
   "id": "57aa273c",
   "metadata": {},
   "source": [
    "1. get the unique values for (gender,pclass,age_category,companion_type,embarked)\n",
    "   "
   ]
  },
  {
   "cell_type": "code",
   "execution_count": 32,
   "id": "2a82e604",
   "metadata": {},
   "outputs": [
    {
     "data": {
      "text/plain": [
       "gender                                               [female, male]\n",
       "age_category      ['adult', 'child', 'teen', 'senior']\n",
       "Categorie...\n",
       "pclass                                                    [1, 2, 3]\n",
       "companion_type                                    [friends, family]\n",
       "embarked                      [Southampton, Cherbourg, Queenstowmn]\n",
       "dtype: object"
      ]
     },
     "execution_count": 32,
     "metadata": {},
     "output_type": "execute_result"
    }
   ],
   "source": [
    "lst=['gender','age_category','pclass','companion_type','embarked']\n",
    "df[lst].apply(pd.Series.unique)\n",
    "\n"
   ]
  },
  {
   "cell_type": "markdown",
   "id": "406badf2",
   "metadata": {},
   "source": [
    "2. (i)  get the passenger 'Emil' details\n",
    "   (ii) get the passenger 'Emil' gender,age,companion_type,survival_status"
   ]
  },
  {
   "cell_type": "code",
   "execution_count": 33,
   "id": "7a5de88a",
   "metadata": {},
   "outputs": [
    {
     "data": {
      "text/html": [
       "<div>\n",
       "<style scoped>\n",
       "    .dataframe tbody tr th:only-of-type {\n",
       "        vertical-align: middle;\n",
       "    }\n",
       "\n",
       "    .dataframe tbody tr th {\n",
       "        vertical-align: top;\n",
       "    }\n",
       "\n",
       "    .dataframe thead th {\n",
       "        text-align: right;\n",
       "    }\n",
       "</style>\n",
       "<table border=\"1\" class=\"dataframe\">\n",
       "  <thead>\n",
       "    <tr style=\"text-align: right;\">\n",
       "      <th></th>\n",
       "      <th>fname</th>\n",
       "    </tr>\n",
       "  </thead>\n",
       "  <tbody>\n",
       "    <tr>\n",
       "      <th>0</th>\n",
       "      <td>Elisabeth Walton</td>\n",
       "    </tr>\n",
       "    <tr>\n",
       "      <th>1</th>\n",
       "      <td>Hudson Trevor</td>\n",
       "    </tr>\n",
       "    <tr>\n",
       "      <th>2</th>\n",
       "      <td>Helen Loraine</td>\n",
       "    </tr>\n",
       "    <tr>\n",
       "      <th>3</th>\n",
       "      <td>Hudson Joshua Creighton</td>\n",
       "    </tr>\n",
       "    <tr>\n",
       "      <th>4</th>\n",
       "      <td>Hudson J C (Bessie Waldo Daniels)</td>\n",
       "    </tr>\n",
       "    <tr>\n",
       "      <th>...</th>\n",
       "      <td>...</td>\n",
       "    </tr>\n",
       "    <tr>\n",
       "      <th>1304</th>\n",
       "      <td>Hileni</td>\n",
       "    </tr>\n",
       "    <tr>\n",
       "      <th>1305</th>\n",
       "      <td>Thamine</td>\n",
       "    </tr>\n",
       "    <tr>\n",
       "      <th>1306</th>\n",
       "      <td>Mapriededer</td>\n",
       "    </tr>\n",
       "    <tr>\n",
       "      <th>1307</th>\n",
       "      <td>Ortin</td>\n",
       "    </tr>\n",
       "    <tr>\n",
       "      <th>1308</th>\n",
       "      <td>Leo</td>\n",
       "    </tr>\n",
       "  </tbody>\n",
       "</table>\n",
       "<p>1309 rows × 1 columns</p>\n",
       "</div>"
      ],
      "text/plain": [
       "                                   fname\n",
       "0                       Elisabeth Walton\n",
       "1                          Hudson Trevor\n",
       "2                          Helen Loraine\n",
       "3                Hudson Joshua Creighton\n",
       "4      Hudson J C (Bessie Waldo Daniels)\n",
       "...                                  ...\n",
       "1304                              Hileni\n",
       "1305                             Thamine\n",
       "1306                         Mapriededer\n",
       "1307                               Ortin\n",
       "1308                                 Leo\n",
       "\n",
       "[1309 rows x 1 columns]"
      ]
     },
     "execution_count": 33,
     "metadata": {},
     "output_type": "execute_result"
    }
   ],
   "source": [
    "df[['fname']]"
   ]
  },
  {
   "cell_type": "code",
   "execution_count": 34,
   "id": "9923ade8",
   "metadata": {},
   "outputs": [
    {
     "data": {
      "text/html": [
       "<div>\n",
       "<style scoped>\n",
       "    .dataframe tbody tr th:only-of-type {\n",
       "        vertical-align: middle;\n",
       "    }\n",
       "\n",
       "    .dataframe tbody tr th {\n",
       "        vertical-align: top;\n",
       "    }\n",
       "\n",
       "    .dataframe thead th {\n",
       "        text-align: right;\n",
       "    }\n",
       "</style>\n",
       "<table border=\"1\" class=\"dataframe\">\n",
       "  <thead>\n",
       "    <tr style=\"text-align: right;\">\n",
       "      <th></th>\n",
       "      <th>age</th>\n",
       "      <th>gender</th>\n",
       "      <th>companion_type</th>\n",
       "      <th>survived</th>\n",
       "    </tr>\n",
       "  </thead>\n",
       "  <tbody>\n",
       "    <tr>\n",
       "      <th>0</th>\n",
       "      <td>29.0</td>\n",
       "      <td>female</td>\n",
       "      <td>friends</td>\n",
       "      <td>1</td>\n",
       "    </tr>\n",
       "    <tr>\n",
       "      <th>1</th>\n",
       "      <td>0.9</td>\n",
       "      <td>male</td>\n",
       "      <td>family</td>\n",
       "      <td>1</td>\n",
       "    </tr>\n",
       "    <tr>\n",
       "      <th>2</th>\n",
       "      <td>2.0</td>\n",
       "      <td>female</td>\n",
       "      <td>family</td>\n",
       "      <td>0</td>\n",
       "    </tr>\n",
       "    <tr>\n",
       "      <th>3</th>\n",
       "      <td>30.0</td>\n",
       "      <td>male</td>\n",
       "      <td>family</td>\n",
       "      <td>0</td>\n",
       "    </tr>\n",
       "    <tr>\n",
       "      <th>4</th>\n",
       "      <td>25.0</td>\n",
       "      <td>female</td>\n",
       "      <td>family</td>\n",
       "      <td>0</td>\n",
       "    </tr>\n",
       "    <tr>\n",
       "      <th>...</th>\n",
       "      <td>...</td>\n",
       "      <td>...</td>\n",
       "      <td>...</td>\n",
       "      <td>...</td>\n",
       "    </tr>\n",
       "    <tr>\n",
       "      <th>1304</th>\n",
       "      <td>14.5</td>\n",
       "      <td>female</td>\n",
       "      <td>family</td>\n",
       "      <td>0</td>\n",
       "    </tr>\n",
       "    <tr>\n",
       "      <th>1305</th>\n",
       "      <td>28.0</td>\n",
       "      <td>female</td>\n",
       "      <td>family</td>\n",
       "      <td>0</td>\n",
       "    </tr>\n",
       "    <tr>\n",
       "      <th>1306</th>\n",
       "      <td>26.5</td>\n",
       "      <td>male</td>\n",
       "      <td>friends</td>\n",
       "      <td>0</td>\n",
       "    </tr>\n",
       "    <tr>\n",
       "      <th>1307</th>\n",
       "      <td>27.0</td>\n",
       "      <td>male</td>\n",
       "      <td>friends</td>\n",
       "      <td>0</td>\n",
       "    </tr>\n",
       "    <tr>\n",
       "      <th>1308</th>\n",
       "      <td>29.0</td>\n",
       "      <td>male</td>\n",
       "      <td>friends</td>\n",
       "      <td>0</td>\n",
       "    </tr>\n",
       "  </tbody>\n",
       "</table>\n",
       "<p>1309 rows × 4 columns</p>\n",
       "</div>"
      ],
      "text/plain": [
       "       age  gender companion_type  survived\n",
       "0     29.0  female        friends         1\n",
       "1      0.9    male         family         1\n",
       "2      2.0  female         family         0\n",
       "3     30.0    male         family         0\n",
       "4     25.0  female         family         0\n",
       "...    ...     ...            ...       ...\n",
       "1304  14.5  female         family         0\n",
       "1305  28.0  female         family         0\n",
       "1306  26.5    male        friends         0\n",
       "1307  27.0    male        friends         0\n",
       "1308  29.0    male        friends         0\n",
       "\n",
       "[1309 rows x 4 columns]"
      ]
     },
     "execution_count": 34,
     "metadata": {},
     "output_type": "execute_result"
    }
   ],
   "source": [
    "df[['age','gender','companion_type','survived']]"
   ]
  },
  {
   "cell_type": "markdown",
   "id": "03c859a7",
   "metadata": {},
   "source": [
    "3. get the 'Emil' family members"
   ]
  },
  {
   "cell_type": "code",
   "execution_count": 35,
   "id": "3c7955f2",
   "metadata": {},
   "outputs": [
    {
     "data": {
      "text/html": [
       "<div>\n",
       "<style scoped>\n",
       "    .dataframe tbody tr th:only-of-type {\n",
       "        vertical-align: middle;\n",
       "    }\n",
       "\n",
       "    .dataframe tbody tr th {\n",
       "        vertical-align: top;\n",
       "    }\n",
       "\n",
       "    .dataframe thead th {\n",
       "        text-align: right;\n",
       "    }\n",
       "</style>\n",
       "<table border=\"1\" class=\"dataframe\">\n",
       "  <thead>\n",
       "    <tr style=\"text-align: right;\">\n",
       "      <th></th>\n",
       "      <th>family_count</th>\n",
       "    </tr>\n",
       "  </thead>\n",
       "  <tbody>\n",
       "    <tr>\n",
       "      <th>0</th>\n",
       "      <td>0</td>\n",
       "    </tr>\n",
       "    <tr>\n",
       "      <th>1</th>\n",
       "      <td>3</td>\n",
       "    </tr>\n",
       "    <tr>\n",
       "      <th>2</th>\n",
       "      <td>3</td>\n",
       "    </tr>\n",
       "    <tr>\n",
       "      <th>3</th>\n",
       "      <td>3</td>\n",
       "    </tr>\n",
       "    <tr>\n",
       "      <th>4</th>\n",
       "      <td>3</td>\n",
       "    </tr>\n",
       "    <tr>\n",
       "      <th>...</th>\n",
       "      <td>...</td>\n",
       "    </tr>\n",
       "    <tr>\n",
       "      <th>1304</th>\n",
       "      <td>1</td>\n",
       "    </tr>\n",
       "    <tr>\n",
       "      <th>1305</th>\n",
       "      <td>1</td>\n",
       "    </tr>\n",
       "    <tr>\n",
       "      <th>1306</th>\n",
       "      <td>0</td>\n",
       "    </tr>\n",
       "    <tr>\n",
       "      <th>1307</th>\n",
       "      <td>0</td>\n",
       "    </tr>\n",
       "    <tr>\n",
       "      <th>1308</th>\n",
       "      <td>0</td>\n",
       "    </tr>\n",
       "  </tbody>\n",
       "</table>\n",
       "<p>1309 rows × 1 columns</p>\n",
       "</div>"
      ],
      "text/plain": [
       "      family_count\n",
       "0                0\n",
       "1                3\n",
       "2                3\n",
       "3                3\n",
       "4                3\n",
       "...            ...\n",
       "1304             1\n",
       "1305             1\n",
       "1306             0\n",
       "1307             0\n",
       "1308             0\n",
       "\n",
       "[1309 rows x 1 columns]"
      ]
     },
     "execution_count": 35,
     "metadata": {},
     "output_type": "execute_result"
    }
   ],
   "source": [
    "df[['family_count']]"
   ]
  },
  {
   "cell_type": "markdown",
   "id": "d3c8d65c",
   "metadata": {},
   "source": [
    "4. get the passenger details who got survived"
   ]
  },
  {
   "cell_type": "code",
   "execution_count": 36,
   "id": "4104ca4a",
   "metadata": {},
   "outputs": [
    {
     "data": {
      "text/html": [
       "<div>\n",
       "<style scoped>\n",
       "    .dataframe tbody tr th:only-of-type {\n",
       "        vertical-align: middle;\n",
       "    }\n",
       "\n",
       "    .dataframe tbody tr th {\n",
       "        vertical-align: top;\n",
       "    }\n",
       "\n",
       "    .dataframe thead th {\n",
       "        text-align: right;\n",
       "    }\n",
       "</style>\n",
       "<table border=\"1\" class=\"dataframe\">\n",
       "  <thead>\n",
       "    <tr style=\"text-align: right;\">\n",
       "      <th></th>\n",
       "      <th>pclass</th>\n",
       "      <th>gender</th>\n",
       "      <th>age</th>\n",
       "      <th>ticket</th>\n",
       "      <th>fare</th>\n",
       "      <th>embarked</th>\n",
       "      <th>survived</th>\n",
       "      <th>family_count</th>\n",
       "      <th>lname</th>\n",
       "      <th>temp</th>\n",
       "      <th>title</th>\n",
       "      <th>fname</th>\n",
       "      <th>companion_type</th>\n",
       "      <th>age_category</th>\n",
       "    </tr>\n",
       "  </thead>\n",
       "  <tbody>\n",
       "    <tr>\n",
       "      <th>0</th>\n",
       "      <td>1</td>\n",
       "      <td>female</td>\n",
       "      <td>29.0</td>\n",
       "      <td>24160</td>\n",
       "      <td>211.3</td>\n",
       "      <td>Southampton</td>\n",
       "      <td>1</td>\n",
       "      <td>0</td>\n",
       "      <td>Allen</td>\n",
       "      <td>Miss. Elisabeth Walton</td>\n",
       "      <td>Miss</td>\n",
       "      <td>Elisabeth Walton</td>\n",
       "      <td>friends</td>\n",
       "      <td>adult</td>\n",
       "    </tr>\n",
       "    <tr>\n",
       "      <th>1</th>\n",
       "      <td>1</td>\n",
       "      <td>male</td>\n",
       "      <td>0.9</td>\n",
       "      <td>113781</td>\n",
       "      <td>151.6</td>\n",
       "      <td>Southampton</td>\n",
       "      <td>1</td>\n",
       "      <td>3</td>\n",
       "      <td>Allison</td>\n",
       "      <td>Master. Hudson Trevor</td>\n",
       "      <td>Master</td>\n",
       "      <td>Hudson Trevor</td>\n",
       "      <td>family</td>\n",
       "      <td>child</td>\n",
       "    </tr>\n",
       "    <tr>\n",
       "      <th>5</th>\n",
       "      <td>1</td>\n",
       "      <td>male</td>\n",
       "      <td>48.0</td>\n",
       "      <td>19952</td>\n",
       "      <td>26.6</td>\n",
       "      <td>Southampton</td>\n",
       "      <td>1</td>\n",
       "      <td>0</td>\n",
       "      <td>Anderson</td>\n",
       "      <td>Mr. Harry</td>\n",
       "      <td>Mr</td>\n",
       "      <td>Harry</td>\n",
       "      <td>friends</td>\n",
       "      <td>adult</td>\n",
       "    </tr>\n",
       "    <tr>\n",
       "      <th>6</th>\n",
       "      <td>1</td>\n",
       "      <td>female</td>\n",
       "      <td>63.0</td>\n",
       "      <td>13502</td>\n",
       "      <td>78.0</td>\n",
       "      <td>Southampton</td>\n",
       "      <td>1</td>\n",
       "      <td>1</td>\n",
       "      <td>Andrews</td>\n",
       "      <td>Miss. Kornelia Theodosia</td>\n",
       "      <td>Miss</td>\n",
       "      <td>Kornelia Theodosia</td>\n",
       "      <td>family</td>\n",
       "      <td>senior</td>\n",
       "    </tr>\n",
       "    <tr>\n",
       "      <th>8</th>\n",
       "      <td>1</td>\n",
       "      <td>female</td>\n",
       "      <td>53.0</td>\n",
       "      <td>11769</td>\n",
       "      <td>51.5</td>\n",
       "      <td>Southampton</td>\n",
       "      <td>1</td>\n",
       "      <td>2</td>\n",
       "      <td>Appleton</td>\n",
       "      <td>Mrs. Edward Dale (Charlotte Lamson)</td>\n",
       "      <td>Mrs</td>\n",
       "      <td>Edward Dale (Charlotte Lamson)</td>\n",
       "      <td>family</td>\n",
       "      <td>adult</td>\n",
       "    </tr>\n",
       "    <tr>\n",
       "      <th>...</th>\n",
       "      <td>...</td>\n",
       "      <td>...</td>\n",
       "      <td>...</td>\n",
       "      <td>...</td>\n",
       "      <td>...</td>\n",
       "      <td>...</td>\n",
       "      <td>...</td>\n",
       "      <td>...</td>\n",
       "      <td>...</td>\n",
       "      <td>...</td>\n",
       "      <td>...</td>\n",
       "      <td>...</td>\n",
       "      <td>...</td>\n",
       "      <td>...</td>\n",
       "    </tr>\n",
       "    <tr>\n",
       "      <th>1261</th>\n",
       "      <td>3</td>\n",
       "      <td>female</td>\n",
       "      <td>63.0</td>\n",
       "      <td>4134</td>\n",
       "      <td>9.6</td>\n",
       "      <td>Southampton</td>\n",
       "      <td>1</td>\n",
       "      <td>0</td>\n",
       "      <td>Turkula</td>\n",
       "      <td>Mrs. (Hedwig)</td>\n",
       "      <td>Mrs</td>\n",
       "      <td>(Hedwig)</td>\n",
       "      <td>friends</td>\n",
       "      <td>senior</td>\n",
       "    </tr>\n",
       "    <tr>\n",
       "      <th>1277</th>\n",
       "      <td>3</td>\n",
       "      <td>male</td>\n",
       "      <td>22.0</td>\n",
       "      <td>2658</td>\n",
       "      <td>7.2</td>\n",
       "      <td>Cherbourg</td>\n",
       "      <td>1</td>\n",
       "      <td>0</td>\n",
       "      <td>Vartanian</td>\n",
       "      <td>Mr. David</td>\n",
       "      <td>Mr</td>\n",
       "      <td>David</td>\n",
       "      <td>friends</td>\n",
       "      <td>teen</td>\n",
       "    </tr>\n",
       "    <tr>\n",
       "      <th>1286</th>\n",
       "      <td>3</td>\n",
       "      <td>female</td>\n",
       "      <td>38.0</td>\n",
       "      <td>2688</td>\n",
       "      <td>7.2</td>\n",
       "      <td>Cherbourg</td>\n",
       "      <td>1</td>\n",
       "      <td>0</td>\n",
       "      <td>Whabee</td>\n",
       "      <td>Mrs. George Joseph (Shawneene Abi-Saab)</td>\n",
       "      <td>Mrs</td>\n",
       "      <td>George Joseph (Shawneene Abi-Saab)</td>\n",
       "      <td>friends</td>\n",
       "      <td>adult</td>\n",
       "    </tr>\n",
       "    <tr>\n",
       "      <th>1290</th>\n",
       "      <td>3</td>\n",
       "      <td>female</td>\n",
       "      <td>47.0</td>\n",
       "      <td>363272</td>\n",
       "      <td>7.0</td>\n",
       "      <td>Southampton</td>\n",
       "      <td>1</td>\n",
       "      <td>1</td>\n",
       "      <td>Wilkes</td>\n",
       "      <td>Mrs. James (Ellen Needs)</td>\n",
       "      <td>Mrs</td>\n",
       "      <td>James (Ellen Needs)</td>\n",
       "      <td>family</td>\n",
       "      <td>adult</td>\n",
       "    </tr>\n",
       "    <tr>\n",
       "      <th>1300</th>\n",
       "      <td>3</td>\n",
       "      <td>female</td>\n",
       "      <td>15.0</td>\n",
       "      <td>2659</td>\n",
       "      <td>14.5</td>\n",
       "      <td>Cherbourg</td>\n",
       "      <td>1</td>\n",
       "      <td>1</td>\n",
       "      <td>Yasbeck</td>\n",
       "      <td>Mrs. Antoni (Selini Alexander)</td>\n",
       "      <td>Mrs</td>\n",
       "      <td>Antoni (Selini Alexander)</td>\n",
       "      <td>family</td>\n",
       "      <td>child</td>\n",
       "    </tr>\n",
       "  </tbody>\n",
       "</table>\n",
       "<p>500 rows × 14 columns</p>\n",
       "</div>"
      ],
      "text/plain": [
       "      pclass  gender   age  ticket   fare     embarked  survived  \\\n",
       "0          1  female  29.0   24160  211.3  Southampton         1   \n",
       "1          1    male   0.9  113781  151.6  Southampton         1   \n",
       "5          1    male  48.0   19952   26.6  Southampton         1   \n",
       "6          1  female  63.0   13502   78.0  Southampton         1   \n",
       "8          1  female  53.0   11769   51.5  Southampton         1   \n",
       "...      ...     ...   ...     ...    ...          ...       ...   \n",
       "1261       3  female  63.0    4134    9.6  Southampton         1   \n",
       "1277       3    male  22.0    2658    7.2    Cherbourg         1   \n",
       "1286       3  female  38.0    2688    7.2    Cherbourg         1   \n",
       "1290       3  female  47.0  363272    7.0  Southampton         1   \n",
       "1300       3  female  15.0    2659   14.5    Cherbourg         1   \n",
       "\n",
       "      family_count      lname                                      temp  \\\n",
       "0                0      Allen                    Miss. Elisabeth Walton   \n",
       "1                3    Allison                     Master. Hudson Trevor   \n",
       "5                0   Anderson                                 Mr. Harry   \n",
       "6                1    Andrews                  Miss. Kornelia Theodosia   \n",
       "8                2   Appleton       Mrs. Edward Dale (Charlotte Lamson)   \n",
       "...            ...        ...                                       ...   \n",
       "1261             0    Turkula                             Mrs. (Hedwig)   \n",
       "1277             0  Vartanian                                 Mr. David   \n",
       "1286             0     Whabee   Mrs. George Joseph (Shawneene Abi-Saab)   \n",
       "1290             1     Wilkes                  Mrs. James (Ellen Needs)   \n",
       "1300             1    Yasbeck            Mrs. Antoni (Selini Alexander)   \n",
       "\n",
       "        title                                fname companion_type age_category  \n",
       "0        Miss                     Elisabeth Walton        friends        adult  \n",
       "1      Master                        Hudson Trevor         family        child  \n",
       "5          Mr                                Harry        friends        adult  \n",
       "6        Miss                   Kornelia Theodosia         family       senior  \n",
       "8         Mrs       Edward Dale (Charlotte Lamson)         family        adult  \n",
       "...       ...                                  ...            ...          ...  \n",
       "1261      Mrs                             (Hedwig)        friends       senior  \n",
       "1277       Mr                                David        friends         teen  \n",
       "1286      Mrs   George Joseph (Shawneene Abi-Saab)        friends        adult  \n",
       "1290      Mrs                  James (Ellen Needs)         family        adult  \n",
       "1300      Mrs            Antoni (Selini Alexander)         family        child  \n",
       "\n",
       "[500 rows x 14 columns]"
      ]
     },
     "execution_count": 36,
     "metadata": {},
     "output_type": "execute_result"
    }
   ],
   "source": [
    "df.query(\"survived==1\")\n",
    "df.loc[df['survived']==1]"
   ]
  },
  {
   "cell_type": "markdown",
   "id": "50319b00",
   "metadata": {},
   "source": [
    "5. get the passenger name,age_category,gender who din't get survive\n"
   ]
  },
  {
   "cell_type": "code",
   "execution_count": 37,
   "id": "0db321f4",
   "metadata": {},
   "outputs": [
    {
     "data": {
      "text/html": [
       "<div>\n",
       "<style scoped>\n",
       "    .dataframe tbody tr th:only-of-type {\n",
       "        vertical-align: middle;\n",
       "    }\n",
       "\n",
       "    .dataframe tbody tr th {\n",
       "        vertical-align: top;\n",
       "    }\n",
       "\n",
       "    .dataframe thead th {\n",
       "        text-align: right;\n",
       "    }\n",
       "</style>\n",
       "<table border=\"1\" class=\"dataframe\">\n",
       "  <thead>\n",
       "    <tr style=\"text-align: right;\">\n",
       "      <th></th>\n",
       "      <th>fname</th>\n",
       "      <th>gender</th>\n",
       "      <th>age_category</th>\n",
       "    </tr>\n",
       "  </thead>\n",
       "  <tbody>\n",
       "    <tr>\n",
       "      <th>2</th>\n",
       "      <td>Helen Loraine</td>\n",
       "      <td>female</td>\n",
       "      <td>child</td>\n",
       "    </tr>\n",
       "    <tr>\n",
       "      <th>3</th>\n",
       "      <td>Hudson Joshua Creighton</td>\n",
       "      <td>male</td>\n",
       "      <td>adult</td>\n",
       "    </tr>\n",
       "    <tr>\n",
       "      <th>4</th>\n",
       "      <td>Hudson J C (Bessie Waldo Daniels)</td>\n",
       "      <td>female</td>\n",
       "      <td>teen</td>\n",
       "    </tr>\n",
       "    <tr>\n",
       "      <th>7</th>\n",
       "      <td>Thomas Jr</td>\n",
       "      <td>male</td>\n",
       "      <td>adult</td>\n",
       "    </tr>\n",
       "    <tr>\n",
       "      <th>9</th>\n",
       "      <td>Ramon</td>\n",
       "      <td>male</td>\n",
       "      <td>senior</td>\n",
       "    </tr>\n",
       "    <tr>\n",
       "      <th>...</th>\n",
       "      <td>...</td>\n",
       "      <td>...</td>\n",
       "      <td>...</td>\n",
       "    </tr>\n",
       "    <tr>\n",
       "      <th>1304</th>\n",
       "      <td>Hileni</td>\n",
       "      <td>female</td>\n",
       "      <td>child</td>\n",
       "    </tr>\n",
       "    <tr>\n",
       "      <th>1305</th>\n",
       "      <td>Thamine</td>\n",
       "      <td>female</td>\n",
       "      <td>adult</td>\n",
       "    </tr>\n",
       "    <tr>\n",
       "      <th>1306</th>\n",
       "      <td>Mapriededer</td>\n",
       "      <td>male</td>\n",
       "      <td>adult</td>\n",
       "    </tr>\n",
       "    <tr>\n",
       "      <th>1307</th>\n",
       "      <td>Ortin</td>\n",
       "      <td>male</td>\n",
       "      <td>adult</td>\n",
       "    </tr>\n",
       "    <tr>\n",
       "      <th>1308</th>\n",
       "      <td>Leo</td>\n",
       "      <td>male</td>\n",
       "      <td>adult</td>\n",
       "    </tr>\n",
       "  </tbody>\n",
       "</table>\n",
       "<p>809 rows × 3 columns</p>\n",
       "</div>"
      ],
      "text/plain": [
       "                                   fname  gender age_category\n",
       "2                          Helen Loraine  female        child\n",
       "3                Hudson Joshua Creighton    male        adult\n",
       "4      Hudson J C (Bessie Waldo Daniels)  female         teen\n",
       "7                              Thomas Jr    male        adult\n",
       "9                                  Ramon    male       senior\n",
       "...                                  ...     ...          ...\n",
       "1304                              Hileni  female        child\n",
       "1305                             Thamine  female        adult\n",
       "1306                         Mapriededer    male        adult\n",
       "1307                               Ortin    male        adult\n",
       "1308                                 Leo    male        adult\n",
       "\n",
       "[809 rows x 3 columns]"
      ]
     },
     "execution_count": 37,
     "metadata": {},
     "output_type": "execute_result"
    }
   ],
   "source": [
    "df.query(\"survived==0\")[['fname','gender','age_category']]\n",
    "# df.loc[df['survived']==0][['fname','gender','age']]"
   ]
  },
  {
   "cell_type": "markdown",
   "id": "33e8c5ab",
   "metadata": {},
   "source": [
    "6. get the top 10 male passengers name in descending order of age\n"
   ]
  },
  {
   "cell_type": "code",
   "execution_count": 38,
   "id": "ae733b6a",
   "metadata": {},
   "outputs": [
    {
     "data": {
      "text/html": [
       "<div>\n",
       "<style scoped>\n",
       "    .dataframe tbody tr th:only-of-type {\n",
       "        vertical-align: middle;\n",
       "    }\n",
       "\n",
       "    .dataframe tbody tr th {\n",
       "        vertical-align: top;\n",
       "    }\n",
       "\n",
       "    .dataframe thead th {\n",
       "        text-align: right;\n",
       "    }\n",
       "</style>\n",
       "<table border=\"1\" class=\"dataframe\">\n",
       "  <thead>\n",
       "    <tr style=\"text-align: right;\">\n",
       "      <th></th>\n",
       "      <th>fname</th>\n",
       "    </tr>\n",
       "  </thead>\n",
       "  <tbody>\n",
       "    <tr>\n",
       "      <th>14</th>\n",
       "      <td>Algernon Henry Wilson</td>\n",
       "    </tr>\n",
       "    <tr>\n",
       "      <th>1235</th>\n",
       "      <td>Johan</td>\n",
       "    </tr>\n",
       "    <tr>\n",
       "      <th>135</th>\n",
       "      <td>George B</td>\n",
       "    </tr>\n",
       "    <tr>\n",
       "      <th>9</th>\n",
       "      <td>Ramon</td>\n",
       "    </tr>\n",
       "    <tr>\n",
       "      <th>727</th>\n",
       "      <td>Patrick</td>\n",
       "    </tr>\n",
       "    <tr>\n",
       "      <th>506</th>\n",
       "      <td>Henry Michael</td>\n",
       "    </tr>\n",
       "    <tr>\n",
       "      <th>81</th>\n",
       "      <td>Edward Gifford</td>\n",
       "    </tr>\n",
       "    <tr>\n",
       "      <th>285</th>\n",
       "      <td>Isidor</td>\n",
       "    </tr>\n",
       "    <tr>\n",
       "      <th>594</th>\n",
       "      <td>Edward H</td>\n",
       "    </tr>\n",
       "    <tr>\n",
       "      <th>221</th>\n",
       "      <td>Engelhart Cornelius</td>\n",
       "    </tr>\n",
       "  </tbody>\n",
       "</table>\n",
       "</div>"
      ],
      "text/plain": [
       "                       fname\n",
       "14     Algernon Henry Wilson\n",
       "1235                   Johan\n",
       "135                 George B\n",
       "9                      Ramon\n",
       "727                  Patrick\n",
       "506            Henry Michael\n",
       "81            Edward Gifford\n",
       "285                   Isidor\n",
       "594                 Edward H\n",
       "221      Engelhart Cornelius"
      ]
     },
     "execution_count": 38,
     "metadata": {},
     "output_type": "execute_result"
    }
   ],
   "source": [
    "#df.query(\"gender=='male'\").sort_values(by=['age'],ascending=False)[['name']].head(10)\n",
    "df.loc[df['gender']=='male'].sort_values(by=['age'],ascending=False)[['fname']].head(10)"
   ]
  },
  {
   "cell_type": "markdown",
   "id": "9087198b",
   "metadata": {},
   "source": [
    "7. find the average age of passengers"
   ]
  },
  {
   "cell_type": "code",
   "execution_count": 39,
   "id": "b5298eb5",
   "metadata": {},
   "outputs": [
    {
     "data": {
      "text/plain": [
       "np.float64(29.503208556149737)"
      ]
     },
     "execution_count": 39,
     "metadata": {},
     "output_type": "execute_result"
    }
   ],
   "source": [
    "df['age'].mean()"
   ]
  },
  {
   "cell_type": "markdown",
   "id": "a56df313",
   "metadata": {},
   "source": [
    "8. find the average age of female passengers\n"
   ]
  },
  {
   "cell_type": "code",
   "execution_count": 40,
   "id": "04d9396c",
   "metadata": {},
   "outputs": [
    {
     "data": {
      "text/plain": [
       "np.float64(28.572317596566524)"
      ]
     },
     "execution_count": 40,
     "metadata": {},
     "output_type": "execute_result"
    }
   ],
   "source": [
    "df.query(\"gender=='female'\")['age'].mean()\n",
    "# df.loc[df['gender']=='female']['age'].mean()"
   ]
  },
  {
   "cell_type": "markdown",
   "id": "be24d8ad",
   "metadata": {},
   "source": [
    "8. find the average age of male passengers\n"
   ]
  },
  {
   "cell_type": "code",
   "execution_count": 41,
   "id": "b7b2d38b",
   "metadata": {},
   "outputs": [
    {
     "data": {
      "text/plain": [
       "np.float64(30.01779359430605)"
      ]
     },
     "execution_count": 41,
     "metadata": {},
     "output_type": "execute_result"
    }
   ],
   "source": [
    "df.query(\"gender=='male'\")['age'].mean()\n",
    "#df.loc[df['gender']=='male']['age'].mean()"
   ]
  },
  {
   "cell_type": "markdown",
   "id": "7592ed61",
   "metadata": {},
   "source": [
    "9. find the survival  rate of passengers"
   ]
  },
  {
   "cell_type": "code",
   "execution_count": 42,
   "id": "ace9bf2e",
   "metadata": {},
   "outputs": [],
   "source": [
    "a=df.query(\"survived==1\").shape[0]"
   ]
  },
  {
   "cell_type": "code",
   "execution_count": 43,
   "id": "f95a7a83",
   "metadata": {},
   "outputs": [],
   "source": [
    "b=df['survived'].shape[0]"
   ]
  },
  {
   "cell_type": "code",
   "execution_count": 44,
   "id": "40dfb58e",
   "metadata": {},
   "outputs": [
    {
     "data": {
      "text/plain": [
       "38.19709702062643"
      ]
     },
     "execution_count": 44,
     "metadata": {},
     "output_type": "execute_result"
    }
   ],
   "source": [
    "s=a/b*100\n",
    "s"
   ]
  },
  {
   "cell_type": "markdown",
   "id": "d44c8ffa",
   "metadata": {},
   "source": [
    "10. find the survival  rate of female passengers\n"
   ]
  },
  {
   "cell_type": "code",
   "execution_count": 45,
   "id": "aa220b34",
   "metadata": {},
   "outputs": [
    {
     "data": {
      "text/plain": [
       "35.59969442322384"
      ]
     },
     "execution_count": 45,
     "metadata": {},
     "output_type": "execute_result"
    }
   ],
   "source": [
    "a=df.query(\"gender=='female'\").shape[0]\n",
    "b=df['survived'].shape[0]\n",
    "s=a/b*100\n",
    "s"
   ]
  },
  {
   "cell_type": "markdown",
   "id": "cb38e821",
   "metadata": {},
   "source": [
    "11. find the survival  rate of male passengers\n"
   ]
  },
  {
   "cell_type": "code",
   "execution_count": 46,
   "id": "62addc4a",
   "metadata": {},
   "outputs": [
    {
     "data": {
      "text/plain": [
       "64.40030557677616"
      ]
     },
     "execution_count": 46,
     "metadata": {},
     "output_type": "execute_result"
    }
   ],
   "source": [
    "a=df.query(\"gender=='male'\").shape[0]\n",
    "b=df['survived'].shape[0]\n",
    "s=a/b*100\n",
    "s"
   ]
  },
  {
   "cell_type": "markdown",
   "id": "ffa212d5",
   "metadata": {},
   "source": [
    "12. get highest and lowest age of passengers"
   ]
  },
  {
   "cell_type": "code",
   "execution_count": 47,
   "id": "28fe9861",
   "metadata": {},
   "outputs": [
    {
     "data": {
      "text/html": [
       "<div>\n",
       "<style scoped>\n",
       "    .dataframe tbody tr th:only-of-type {\n",
       "        vertical-align: middle;\n",
       "    }\n",
       "\n",
       "    .dataframe tbody tr th {\n",
       "        vertical-align: top;\n",
       "    }\n",
       "\n",
       "    .dataframe thead th {\n",
       "        text-align: right;\n",
       "    }\n",
       "</style>\n",
       "<table border=\"1\" class=\"dataframe\">\n",
       "  <thead>\n",
       "    <tr style=\"text-align: right;\">\n",
       "      <th></th>\n",
       "      <th>age</th>\n",
       "    </tr>\n",
       "  </thead>\n",
       "  <tbody>\n",
       "    <tr>\n",
       "      <th>min</th>\n",
       "      <td>0.2</td>\n",
       "    </tr>\n",
       "    <tr>\n",
       "      <th>max</th>\n",
       "      <td>80.0</td>\n",
       "    </tr>\n",
       "  </tbody>\n",
       "</table>\n",
       "</div>"
      ],
      "text/plain": [
       "      age\n",
       "min   0.2\n",
       "max  80.0"
      ]
     },
     "execution_count": 47,
     "metadata": {},
     "output_type": "execute_result"
    }
   ],
   "source": [
    "df.agg({'age':['min','max']})"
   ]
  },
  {
   "cell_type": "markdown",
   "id": "02904531",
   "metadata": {},
   "source": [
    "13. get the highest and lowest fare amount"
   ]
  },
  {
   "cell_type": "code",
   "execution_count": 48,
   "id": "32845d9a",
   "metadata": {},
   "outputs": [
    {
     "data": {
      "text/html": [
       "<div>\n",
       "<style scoped>\n",
       "    .dataframe tbody tr th:only-of-type {\n",
       "        vertical-align: middle;\n",
       "    }\n",
       "\n",
       "    .dataframe tbody tr th {\n",
       "        vertical-align: top;\n",
       "    }\n",
       "\n",
       "    .dataframe thead th {\n",
       "        text-align: right;\n",
       "    }\n",
       "</style>\n",
       "<table border=\"1\" class=\"dataframe\">\n",
       "  <thead>\n",
       "    <tr style=\"text-align: right;\">\n",
       "      <th></th>\n",
       "      <th>fare</th>\n",
       "    </tr>\n",
       "  </thead>\n",
       "  <tbody>\n",
       "    <tr>\n",
       "      <th>max</th>\n",
       "      <td>512.3</td>\n",
       "    </tr>\n",
       "    <tr>\n",
       "      <th>min</th>\n",
       "      <td>0.0</td>\n",
       "    </tr>\n",
       "  </tbody>\n",
       "</table>\n",
       "</div>"
      ],
      "text/plain": [
       "      fare\n",
       "max  512.3\n",
       "min    0.0"
      ]
     },
     "execution_count": 48,
     "metadata": {},
     "output_type": "execute_result"
    }
   ],
   "source": [
    "df.agg({'fare':['max','min']})"
   ]
  },
  {
   "cell_type": "markdown",
   "id": "a877abea",
   "metadata": {},
   "source": [
    "14. get the male passengers average fare "
   ]
  },
  {
   "cell_type": "code",
   "execution_count": 49,
   "id": "8c73893b",
   "metadata": {},
   "outputs": [
    {
     "data": {
      "text/plain": [
       "np.float64(26.140806642941875)"
      ]
     },
     "execution_count": 49,
     "metadata": {},
     "output_type": "execute_result"
    }
   ],
   "source": [
    "df.query(\"gender=='male'\")['fare'].mean()"
   ]
  },
  {
   "cell_type": "markdown",
   "id": "b8f59b5a",
   "metadata": {},
   "source": [
    "15. get the female passengers average fare \n"
   ]
  },
  {
   "cell_type": "code",
   "execution_count": 50,
   "id": "fad6b226",
   "metadata": {},
   "outputs": [
    {
     "data": {
      "text/plain": [
       "np.float64(46.204291845493564)"
      ]
     },
     "execution_count": 50,
     "metadata": {},
     "output_type": "execute_result"
    }
   ],
   "source": [
    "df.query(\"gender=='female'\")['fare'].mean()"
   ]
  },
  {
   "cell_type": "markdown",
   "id": "350c8797",
   "metadata": {},
   "source": [
    "16. how many solo travellers are travelling"
   ]
  },
  {
   "cell_type": "code",
   "execution_count": 51,
   "id": "c66b50b1",
   "metadata": {},
   "outputs": [
    {
     "data": {
      "text/plain": [
       "0"
      ]
     },
     "execution_count": 51,
     "metadata": {},
     "output_type": "execute_result"
    }
   ],
   "source": [
    "df.query(\"companion_type=='solo'\").shape[0]"
   ]
  },
  {
   "cell_type": "markdown",
   "id": "82bcac76",
   "metadata": {},
   "source": [
    "17. how many  travellers are travelling with friends"
   ]
  },
  {
   "cell_type": "code",
   "execution_count": 52,
   "id": "8347b387",
   "metadata": {},
   "outputs": [
    {
     "data": {
      "text/plain": [
       "790"
      ]
     },
     "execution_count": 52,
     "metadata": {},
     "output_type": "execute_result"
    }
   ],
   "source": [
    "df.query(\"companion_type=='friends'\").shape[0]"
   ]
  },
  {
   "cell_type": "markdown",
   "id": "eeae59b5",
   "metadata": {},
   "source": [
    "18. how many  travellers are travelling with family\n"
   ]
  },
  {
   "cell_type": "code",
   "execution_count": 53,
   "id": "8fd08aee",
   "metadata": {},
   "outputs": [
    {
     "data": {
      "text/plain": [
       "519"
      ]
     },
     "execution_count": 53,
     "metadata": {},
     "output_type": "execute_result"
    }
   ],
   "source": [
    "df.query(\"companion_type=='family'\").shape[0]"
   ]
  },
  {
   "cell_type": "markdown",
   "id": "3000871e",
   "metadata": {},
   "source": [
    "19. get the count of passengers name,gender,age,pclass who are paying highest fare amount"
   ]
  },
  {
   "cell_type": "code",
   "execution_count": 54,
   "id": "f921d968",
   "metadata": {},
   "outputs": [
    {
     "data": {
      "text/plain": [
       "np.float64(512.3)"
      ]
     },
     "execution_count": 54,
     "metadata": {},
     "output_type": "execute_result"
    }
   ],
   "source": [
    "df['fare'].max()"
   ]
  },
  {
   "cell_type": "code",
   "execution_count": 55,
   "id": "c850f97c",
   "metadata": {},
   "outputs": [
    {
     "data": {
      "text/html": [
       "<div>\n",
       "<style scoped>\n",
       "    .dataframe tbody tr th:only-of-type {\n",
       "        vertical-align: middle;\n",
       "    }\n",
       "\n",
       "    .dataframe tbody tr th {\n",
       "        vertical-align: top;\n",
       "    }\n",
       "\n",
       "    .dataframe thead th {\n",
       "        text-align: right;\n",
       "    }\n",
       "</style>\n",
       "<table border=\"1\" class=\"dataframe\">\n",
       "  <thead>\n",
       "    <tr style=\"text-align: right;\">\n",
       "      <th></th>\n",
       "      <th>fname</th>\n",
       "      <th>age</th>\n",
       "      <th>gender</th>\n",
       "      <th>pclass</th>\n",
       "      <th>fare</th>\n",
       "    </tr>\n",
       "  </thead>\n",
       "  <tbody>\n",
       "    <tr>\n",
       "      <th>49</th>\n",
       "      <td>Thomas Drake Martinez</td>\n",
       "      <td>36.0</td>\n",
       "      <td>male</td>\n",
       "      <td>1</td>\n",
       "      <td>512.3</td>\n",
       "    </tr>\n",
       "    <tr>\n",
       "      <th>50</th>\n",
       "      <td>James Warburton Martinez (Charlotte Wardle Dr...</td>\n",
       "      <td>58.0</td>\n",
       "      <td>female</td>\n",
       "      <td>1</td>\n",
       "      <td>512.3</td>\n",
       "    </tr>\n",
       "    <tr>\n",
       "      <th>183</th>\n",
       "      <td>Gustave J</td>\n",
       "      <td>35.0</td>\n",
       "      <td>male</td>\n",
       "      <td>1</td>\n",
       "      <td>512.3</td>\n",
       "    </tr>\n",
       "    <tr>\n",
       "      <th>302</th>\n",
       "      <td>Anna</td>\n",
       "      <td>35.0</td>\n",
       "      <td>female</td>\n",
       "      <td>1</td>\n",
       "      <td>512.3</td>\n",
       "    </tr>\n",
       "  </tbody>\n",
       "</table>\n",
       "</div>"
      ],
      "text/plain": [
       "                                                 fname   age  gender  pclass  \\\n",
       "49                               Thomas Drake Martinez  36.0    male       1   \n",
       "50    James Warburton Martinez (Charlotte Wardle Dr...  58.0  female       1   \n",
       "183                                          Gustave J  35.0    male       1   \n",
       "302                                               Anna  35.0  female       1   \n",
       "\n",
       "      fare  \n",
       "49   512.3  \n",
       "50   512.3  \n",
       "183  512.3  \n",
       "302  512.3  "
      ]
     },
     "execution_count": 55,
     "metadata": {},
     "output_type": "execute_result"
    }
   ],
   "source": [
    "df.loc[df['fare']==df['fare'].max(),['fname','age','gender','pclass','fare']]"
   ]
  },
  {
   "cell_type": "code",
   "execution_count": 56,
   "id": "5fece408",
   "metadata": {},
   "outputs": [
    {
     "data": {
      "text/plain": [
       "4"
      ]
     },
     "execution_count": 56,
     "metadata": {},
     "output_type": "execute_result"
    }
   ],
   "source": [
    "df.loc[df['fare']==df['fare'].max(),['fname','age','gender','pclass']].shape[0]"
   ]
  },
  {
   "cell_type": "markdown",
   "id": "b046462b",
   "metadata": {},
   "source": [
    "20. get the count of passengers name,gender,age,pclass who are paying lowest fare amount\n"
   ]
  },
  {
   "cell_type": "code",
   "execution_count": 57,
   "id": "3fac040d",
   "metadata": {},
   "outputs": [
    {
     "data": {
      "text/plain": [
       "np.float64(0.0)"
      ]
     },
     "execution_count": 57,
     "metadata": {},
     "output_type": "execute_result"
    }
   ],
   "source": [
    "df['fare'].min()"
   ]
  },
  {
   "cell_type": "code",
   "execution_count": 58,
   "id": "a2bd6ee7",
   "metadata": {},
   "outputs": [
    {
     "data": {
      "text/html": [
       "<div>\n",
       "<style scoped>\n",
       "    .dataframe tbody tr th:only-of-type {\n",
       "        vertical-align: middle;\n",
       "    }\n",
       "\n",
       "    .dataframe tbody tr th {\n",
       "        vertical-align: top;\n",
       "    }\n",
       "\n",
       "    .dataframe thead th {\n",
       "        text-align: right;\n",
       "    }\n",
       "</style>\n",
       "<table border=\"1\" class=\"dataframe\">\n",
       "  <thead>\n",
       "    <tr style=\"text-align: right;\">\n",
       "      <th></th>\n",
       "      <th>fname</th>\n",
       "      <th>age</th>\n",
       "      <th>gender</th>\n",
       "      <th>pclass</th>\n",
       "      <th>fare</th>\n",
       "    </tr>\n",
       "  </thead>\n",
       "  <tbody>\n",
       "    <tr>\n",
       "      <th>7</th>\n",
       "      <td>Thomas Jr</td>\n",
       "      <td>39.0</td>\n",
       "      <td>male</td>\n",
       "      <td>1</td>\n",
       "      <td>0.0</td>\n",
       "    </tr>\n",
       "    <tr>\n",
       "      <th>70</th>\n",
       "      <td>Roderick Robert Crispin</td>\n",
       "      <td>28.0</td>\n",
       "      <td>male</td>\n",
       "      <td>1</td>\n",
       "      <td>0.0</td>\n",
       "    </tr>\n",
       "    <tr>\n",
       "      <th>125</th>\n",
       "      <td>Richard</td>\n",
       "      <td>28.0</td>\n",
       "      <td>male</td>\n",
       "      <td>1</td>\n",
       "      <td>0.0</td>\n",
       "    </tr>\n",
       "    <tr>\n",
       "      <th>150</th>\n",
       "      <td>William</td>\n",
       "      <td>40.0</td>\n",
       "      <td>male</td>\n",
       "      <td>1</td>\n",
       "      <td>0.0</td>\n",
       "    </tr>\n",
       "    <tr>\n",
       "      <th>170</th>\n",
       "      <td>Joseph Bruce</td>\n",
       "      <td>49.0</td>\n",
       "      <td>male</td>\n",
       "      <td>1</td>\n",
       "      <td>0.0</td>\n",
       "    </tr>\n",
       "    <tr>\n",
       "      <th>223</th>\n",
       "      <td>William Henry Marsh</td>\n",
       "      <td>28.0</td>\n",
       "      <td>male</td>\n",
       "      <td>1</td>\n",
       "      <td>0.0</td>\n",
       "    </tr>\n",
       "    <tr>\n",
       "      <th>234</th>\n",
       "      <td>John George</td>\n",
       "      <td>38.0</td>\n",
       "      <td>male</td>\n",
       "      <td>1</td>\n",
       "      <td>0.0</td>\n",
       "    </tr>\n",
       "    <tr>\n",
       "      <th>363</th>\n",
       "      <td>William</td>\n",
       "      <td>28.0</td>\n",
       "      <td>male</td>\n",
       "      <td>2</td>\n",
       "      <td>0.0</td>\n",
       "    </tr>\n",
       "    <tr>\n",
       "      <th>384</th>\n",
       "      <td>Alfred Fleming</td>\n",
       "      <td>28.0</td>\n",
       "      <td>male</td>\n",
       "      <td>2</td>\n",
       "      <td>0.0</td>\n",
       "    </tr>\n",
       "    <tr>\n",
       "      <th>410</th>\n",
       "      <td>Anthony Wood \"Archie\"</td>\n",
       "      <td>28.0</td>\n",
       "      <td>male</td>\n",
       "      <td>2</td>\n",
       "      <td>0.0</td>\n",
       "    </tr>\n",
       "    <tr>\n",
       "      <th>473</th>\n",
       "      <td>Robert J</td>\n",
       "      <td>28.0</td>\n",
       "      <td>male</td>\n",
       "      <td>2</td>\n",
       "      <td>0.0</td>\n",
       "    </tr>\n",
       "    <tr>\n",
       "      <th>528</th>\n",
       "      <td>Francis \"Frank\"</td>\n",
       "      <td>28.0</td>\n",
       "      <td>male</td>\n",
       "      <td>2</td>\n",
       "      <td>0.0</td>\n",
       "    </tr>\n",
       "    <tr>\n",
       "      <th>581</th>\n",
       "      <td>Ennis Hastings</td>\n",
       "      <td>28.0</td>\n",
       "      <td>male</td>\n",
       "      <td>2</td>\n",
       "      <td>0.0</td>\n",
       "    </tr>\n",
       "    <tr>\n",
       "      <th>896</th>\n",
       "      <td>Alfred</td>\n",
       "      <td>49.0</td>\n",
       "      <td>male</td>\n",
       "      <td>3</td>\n",
       "      <td>0.0</td>\n",
       "    </tr>\n",
       "    <tr>\n",
       "      <th>898</th>\n",
       "      <td>William Cahoone Jr</td>\n",
       "      <td>19.0</td>\n",
       "      <td>male</td>\n",
       "      <td>3</td>\n",
       "      <td>0.0</td>\n",
       "    </tr>\n",
       "    <tr>\n",
       "      <th>963</th>\n",
       "      <td>Lionel</td>\n",
       "      <td>36.0</td>\n",
       "      <td>male</td>\n",
       "      <td>3</td>\n",
       "      <td>0.0</td>\n",
       "    </tr>\n",
       "    <tr>\n",
       "      <th>1254</th>\n",
       "      <td>William Henry</td>\n",
       "      <td>25.0</td>\n",
       "      <td>male</td>\n",
       "      <td>3</td>\n",
       "      <td>0.0</td>\n",
       "    </tr>\n",
       "  </tbody>\n",
       "</table>\n",
       "</div>"
      ],
      "text/plain": [
       "                         fname   age gender  pclass  fare\n",
       "7                    Thomas Jr  39.0   male       1   0.0\n",
       "70     Roderick Robert Crispin  28.0   male       1   0.0\n",
       "125                    Richard  28.0   male       1   0.0\n",
       "150                    William  40.0   male       1   0.0\n",
       "170               Joseph Bruce  49.0   male       1   0.0\n",
       "223        William Henry Marsh  28.0   male       1   0.0\n",
       "234                John George  38.0   male       1   0.0\n",
       "363                    William  28.0   male       2   0.0\n",
       "384             Alfred Fleming  28.0   male       2   0.0\n",
       "410      Anthony Wood \"Archie\"  28.0   male       2   0.0\n",
       "473                   Robert J  28.0   male       2   0.0\n",
       "528            Francis \"Frank\"  28.0   male       2   0.0\n",
       "581             Ennis Hastings  28.0   male       2   0.0\n",
       "896                     Alfred  49.0   male       3   0.0\n",
       "898         William Cahoone Jr  19.0   male       3   0.0\n",
       "963                     Lionel  36.0   male       3   0.0\n",
       "1254             William Henry  25.0   male       3   0.0"
      ]
     },
     "execution_count": 58,
     "metadata": {},
     "output_type": "execute_result"
    }
   ],
   "source": [
    "df.loc[df['fare']==df['fare'].min(),['fname','age','gender','pclass','fare']]"
   ]
  },
  {
   "cell_type": "code",
   "execution_count": 59,
   "id": "eeb20fa9",
   "metadata": {},
   "outputs": [
    {
     "data": {
      "text/plain": [
       "17"
      ]
     },
     "execution_count": 59,
     "metadata": {},
     "output_type": "execute_result"
    }
   ],
   "source": [
    "df.loc[df['fare']==df['fare'].min(),['fname','age','gender','pclass']].shape[0]"
   ]
  },
  {
   "cell_type": "markdown",
   "id": "122e654a",
   "metadata": {},
   "source": [
    "# level-2"
   ]
  },
  {
   "cell_type": "markdown",
   "id": "94bf3d77",
   "metadata": {},
   "source": [
    "1. get the count of travellers"
   ]
  },
  {
   "cell_type": "code",
   "execution_count": 60,
   "id": "932b4514",
   "metadata": {},
   "outputs": [
    {
     "data": {
      "text/plain": [
       "np.int64(1309)"
      ]
     },
     "execution_count": 60,
     "metadata": {},
     "output_type": "execute_result"
    }
   ],
   "source": [
    "df['age'].count()"
   ]
  },
  {
   "cell_type": "markdown",
   "id": "6d5959d1",
   "metadata": {},
   "source": [
    "2. get the count of survival and non-survival count"
   ]
  },
  {
   "cell_type": "code",
   "execution_count": 61,
   "id": "90d91b26",
   "metadata": {},
   "outputs": [
    {
     "data": {
      "text/plain": [
       "survived\n",
       "0    809\n",
       "1    500\n",
       "Name: count, dtype: int64"
      ]
     },
     "execution_count": 61,
     "metadata": {},
     "output_type": "execute_result"
    }
   ],
   "source": [
    "df['survived'].value_counts()"
   ]
  },
  {
   "cell_type": "markdown",
   "id": "cc3be262",
   "metadata": {},
   "source": [
    "3. get the count of travellers in each gender"
   ]
  },
  {
   "cell_type": "code",
   "execution_count": 62,
   "id": "f04c93fd",
   "metadata": {},
   "outputs": [
    {
     "data": {
      "text/plain": [
       "gender\n",
       "female    466\n",
       "male      843\n",
       "Name: gender, dtype: int64"
      ]
     },
     "execution_count": 62,
     "metadata": {},
     "output_type": "execute_result"
    }
   ],
   "source": [
    "df.groupby(df['gender'])['gender'].count()"
   ]
  },
  {
   "cell_type": "markdown",
   "id": "b4deb0d0",
   "metadata": {},
   "source": [
    "4. get the count of survival and non-survival count in each gender"
   ]
  },
  {
   "cell_type": "code",
   "execution_count": 63,
   "id": "6c368311",
   "metadata": {},
   "outputs": [
    {
     "data": {
      "text/plain": [
       "gender  survived\n",
       "female  1           339\n",
       "        0           127\n",
       "male    0           682\n",
       "        1           161\n",
       "Name: count, dtype: int64"
      ]
     },
     "execution_count": 63,
     "metadata": {},
     "output_type": "execute_result"
    }
   ],
   "source": [
    "df.groupby(\"gender\")['survived'].value_counts()"
   ]
  },
  {
   "cell_type": "markdown",
   "id": "9e86254f",
   "metadata": {},
   "source": [
    "5. get the count of travellers in each embarked\n"
   ]
  },
  {
   "cell_type": "code",
   "execution_count": 64,
   "id": "13abbb20",
   "metadata": {},
   "outputs": [
    {
     "data": {
      "text/html": [
       "<div>\n",
       "<style scoped>\n",
       "    .dataframe tbody tr th:only-of-type {\n",
       "        vertical-align: middle;\n",
       "    }\n",
       "\n",
       "    .dataframe tbody tr th {\n",
       "        vertical-align: top;\n",
       "    }\n",
       "\n",
       "    .dataframe thead th {\n",
       "        text-align: right;\n",
       "    }\n",
       "</style>\n",
       "<table border=\"1\" class=\"dataframe\">\n",
       "  <thead>\n",
       "    <tr style=\"text-align: right;\">\n",
       "      <th></th>\n",
       "      <th>pclass</th>\n",
       "      <th>gender</th>\n",
       "      <th>age</th>\n",
       "      <th>ticket</th>\n",
       "      <th>fare</th>\n",
       "      <th>survived</th>\n",
       "      <th>family_count</th>\n",
       "      <th>lname</th>\n",
       "      <th>temp</th>\n",
       "      <th>title</th>\n",
       "      <th>fname</th>\n",
       "      <th>companion_type</th>\n",
       "      <th>age_category</th>\n",
       "    </tr>\n",
       "    <tr>\n",
       "      <th>embarked</th>\n",
       "      <th></th>\n",
       "      <th></th>\n",
       "      <th></th>\n",
       "      <th></th>\n",
       "      <th></th>\n",
       "      <th></th>\n",
       "      <th></th>\n",
       "      <th></th>\n",
       "      <th></th>\n",
       "      <th></th>\n",
       "      <th></th>\n",
       "      <th></th>\n",
       "      <th></th>\n",
       "    </tr>\n",
       "  </thead>\n",
       "  <tbody>\n",
       "    <tr>\n",
       "      <th>Cherbourg</th>\n",
       "      <td>270</td>\n",
       "      <td>270</td>\n",
       "      <td>270</td>\n",
       "      <td>270</td>\n",
       "      <td>270</td>\n",
       "      <td>270</td>\n",
       "      <td>270</td>\n",
       "      <td>270</td>\n",
       "      <td>270</td>\n",
       "      <td>270</td>\n",
       "      <td>270</td>\n",
       "      <td>270</td>\n",
       "      <td>270</td>\n",
       "    </tr>\n",
       "    <tr>\n",
       "      <th>Queenstowmn</th>\n",
       "      <td>123</td>\n",
       "      <td>123</td>\n",
       "      <td>123</td>\n",
       "      <td>123</td>\n",
       "      <td>123</td>\n",
       "      <td>123</td>\n",
       "      <td>123</td>\n",
       "      <td>123</td>\n",
       "      <td>123</td>\n",
       "      <td>123</td>\n",
       "      <td>123</td>\n",
       "      <td>123</td>\n",
       "      <td>123</td>\n",
       "    </tr>\n",
       "    <tr>\n",
       "      <th>Southampton</th>\n",
       "      <td>916</td>\n",
       "      <td>916</td>\n",
       "      <td>916</td>\n",
       "      <td>916</td>\n",
       "      <td>916</td>\n",
       "      <td>916</td>\n",
       "      <td>916</td>\n",
       "      <td>916</td>\n",
       "      <td>916</td>\n",
       "      <td>916</td>\n",
       "      <td>916</td>\n",
       "      <td>916</td>\n",
       "      <td>916</td>\n",
       "    </tr>\n",
       "  </tbody>\n",
       "</table>\n",
       "</div>"
      ],
      "text/plain": [
       "             pclass  gender  age  ticket  fare  survived  family_count  lname  \\\n",
       "embarked                                                                        \n",
       "Cherbourg       270     270  270     270   270       270           270    270   \n",
       "Queenstowmn     123     123  123     123   123       123           123    123   \n",
       "Southampton     916     916  916     916   916       916           916    916   \n",
       "\n",
       "             temp  title  fname  companion_type  age_category  \n",
       "embarked                                                       \n",
       "Cherbourg     270    270    270             270           270  \n",
       "Queenstowmn   123    123    123             123           123  \n",
       "Southampton   916    916    916             916           916  "
      ]
     },
     "execution_count": 64,
     "metadata": {},
     "output_type": "execute_result"
    }
   ],
   "source": [
    "df.groupby('embarked').count()"
   ]
  },
  {
   "cell_type": "code",
   "execution_count": 65,
   "id": "dd4c1074",
   "metadata": {},
   "outputs": [
    {
     "data": {
      "text/plain": [
       "embarked\n",
       "Southampton    916\n",
       "Cherbourg      270\n",
       "Queenstowmn    123\n",
       "Name: count, dtype: int64"
      ]
     },
     "execution_count": 65,
     "metadata": {},
     "output_type": "execute_result"
    }
   ],
   "source": [
    "df['embarked'].value_counts()"
   ]
  },
  {
   "cell_type": "markdown",
   "id": "934dc2e7",
   "metadata": {},
   "source": [
    "6. get the count of survival and non-survival count in each embarked\n"
   ]
  },
  {
   "cell_type": "code",
   "execution_count": 66,
   "id": "d586dc69",
   "metadata": {},
   "outputs": [
    {
     "data": {
      "text/plain": [
       "embarked     survived\n",
       "Cherbourg    1           150\n",
       "             0           120\n",
       "Queenstowmn  0            79\n",
       "             1            44\n",
       "Southampton  0           610\n",
       "             1           306\n",
       "Name: count, dtype: int64"
      ]
     },
     "execution_count": 66,
     "metadata": {},
     "output_type": "execute_result"
    }
   ],
   "source": [
    "df.groupby(\"embarked\")['survived'].value_counts()"
   ]
  },
  {
   "cell_type": "markdown",
   "id": "37d1c601",
   "metadata": {},
   "source": [
    "7. get the count of travellers in each age_category\n"
   ]
  },
  {
   "cell_type": "code",
   "execution_count": 67,
   "id": "89c8c783",
   "metadata": {},
   "outputs": [
    {
     "name": "stderr",
     "output_type": "stream",
     "text": [
      "C:\\Users\\laksh\\AppData\\Local\\Temp\\ipykernel_14616\\1360993520.py:1: FutureWarning: The default of observed=False is deprecated and will be changed to True in a future version of pandas. Pass observed=False to retain current behavior or observed=True to adopt the future default and silence this warning.\n",
      "  df.groupby('age_category').count()\n"
     ]
    },
    {
     "data": {
      "text/html": [
       "<div>\n",
       "<style scoped>\n",
       "    .dataframe tbody tr th:only-of-type {\n",
       "        vertical-align: middle;\n",
       "    }\n",
       "\n",
       "    .dataframe tbody tr th {\n",
       "        vertical-align: top;\n",
       "    }\n",
       "\n",
       "    .dataframe thead th {\n",
       "        text-align: right;\n",
       "    }\n",
       "</style>\n",
       "<table border=\"1\" class=\"dataframe\">\n",
       "  <thead>\n",
       "    <tr style=\"text-align: right;\">\n",
       "      <th></th>\n",
       "      <th>pclass</th>\n",
       "      <th>gender</th>\n",
       "      <th>age</th>\n",
       "      <th>ticket</th>\n",
       "      <th>fare</th>\n",
       "      <th>embarked</th>\n",
       "      <th>survived</th>\n",
       "      <th>family_count</th>\n",
       "      <th>lname</th>\n",
       "      <th>temp</th>\n",
       "      <th>title</th>\n",
       "      <th>fname</th>\n",
       "      <th>companion_type</th>\n",
       "    </tr>\n",
       "    <tr>\n",
       "      <th>age_category</th>\n",
       "      <th></th>\n",
       "      <th></th>\n",
       "      <th></th>\n",
       "      <th></th>\n",
       "      <th></th>\n",
       "      <th></th>\n",
       "      <th></th>\n",
       "      <th></th>\n",
       "      <th></th>\n",
       "      <th></th>\n",
       "      <th></th>\n",
       "      <th></th>\n",
       "      <th></th>\n",
       "    </tr>\n",
       "  </thead>\n",
       "  <tbody>\n",
       "    <tr>\n",
       "      <th>child</th>\n",
       "      <td>115</td>\n",
       "      <td>115</td>\n",
       "      <td>115</td>\n",
       "      <td>115</td>\n",
       "      <td>115</td>\n",
       "      <td>115</td>\n",
       "      <td>115</td>\n",
       "      <td>115</td>\n",
       "      <td>115</td>\n",
       "      <td>115</td>\n",
       "      <td>115</td>\n",
       "      <td>115</td>\n",
       "      <td>115</td>\n",
       "    </tr>\n",
       "    <tr>\n",
       "      <th>teen</th>\n",
       "      <td>328</td>\n",
       "      <td>328</td>\n",
       "      <td>328</td>\n",
       "      <td>328</td>\n",
       "      <td>328</td>\n",
       "      <td>328</td>\n",
       "      <td>328</td>\n",
       "      <td>328</td>\n",
       "      <td>328</td>\n",
       "      <td>328</td>\n",
       "      <td>328</td>\n",
       "      <td>328</td>\n",
       "      <td>328</td>\n",
       "    </tr>\n",
       "    <tr>\n",
       "      <th>adult</th>\n",
       "      <td>833</td>\n",
       "      <td>833</td>\n",
       "      <td>833</td>\n",
       "      <td>833</td>\n",
       "      <td>833</td>\n",
       "      <td>833</td>\n",
       "      <td>833</td>\n",
       "      <td>833</td>\n",
       "      <td>833</td>\n",
       "      <td>833</td>\n",
       "      <td>833</td>\n",
       "      <td>833</td>\n",
       "      <td>833</td>\n",
       "    </tr>\n",
       "    <tr>\n",
       "      <th>senior</th>\n",
       "      <td>33</td>\n",
       "      <td>33</td>\n",
       "      <td>33</td>\n",
       "      <td>33</td>\n",
       "      <td>33</td>\n",
       "      <td>33</td>\n",
       "      <td>33</td>\n",
       "      <td>33</td>\n",
       "      <td>33</td>\n",
       "      <td>33</td>\n",
       "      <td>33</td>\n",
       "      <td>33</td>\n",
       "      <td>33</td>\n",
       "    </tr>\n",
       "  </tbody>\n",
       "</table>\n",
       "</div>"
      ],
      "text/plain": [
       "              pclass  gender  age  ticket  fare  embarked  survived  \\\n",
       "age_category                                                          \n",
       "child            115     115  115     115   115       115       115   \n",
       "teen             328     328  328     328   328       328       328   \n",
       "adult            833     833  833     833   833       833       833   \n",
       "senior            33      33   33      33    33        33        33   \n",
       "\n",
       "              family_count  lname  temp  title  fname  companion_type  \n",
       "age_category                                                           \n",
       "child                  115    115   115    115    115             115  \n",
       "teen                   328    328   328    328    328             328  \n",
       "adult                  833    833   833    833    833             833  \n",
       "senior                  33     33    33     33     33              33  "
      ]
     },
     "execution_count": 67,
     "metadata": {},
     "output_type": "execute_result"
    }
   ],
   "source": [
    "df.groupby('age_category').count()"
   ]
  },
  {
   "cell_type": "markdown",
   "id": "0263fd7b",
   "metadata": {},
   "source": [
    "8. get the count of survival and non-survival count in each age_category"
   ]
  },
  {
   "cell_type": "code",
   "execution_count": 68,
   "id": "f0a9dad4",
   "metadata": {},
   "outputs": [
    {
     "name": "stderr",
     "output_type": "stream",
     "text": [
      "C:\\Users\\laksh\\AppData\\Local\\Temp\\ipykernel_14616\\1054302285.py:1: FutureWarning: The default of observed=False is deprecated and will be changed to True in a future version of pandas. Pass observed=False to retain current behavior or observed=True to adopt the future default and silence this warning.\n",
      "  df.groupby('age_category')['survived'].value_counts()\n"
     ]
    },
    {
     "data": {
      "text/plain": [
       "age_category  survived\n",
       "child         1            66\n",
       "              0            49\n",
       "teen          0           206\n",
       "              1           122\n",
       "adult         0           529\n",
       "              1           304\n",
       "senior        0            25\n",
       "              1             8\n",
       "Name: count, dtype: int64"
      ]
     },
     "execution_count": 68,
     "metadata": {},
     "output_type": "execute_result"
    }
   ],
   "source": [
    "df.groupby('age_category')['survived'].value_counts()"
   ]
  },
  {
   "cell_type": "markdown",
   "id": "ba89cb4f",
   "metadata": {},
   "source": [
    "9. get the count of travellers in each companion_type\n"
   ]
  },
  {
   "cell_type": "code",
   "execution_count": 69,
   "id": "4287c466",
   "metadata": {},
   "outputs": [
    {
     "data": {
      "text/html": [
       "<div>\n",
       "<style scoped>\n",
       "    .dataframe tbody tr th:only-of-type {\n",
       "        vertical-align: middle;\n",
       "    }\n",
       "\n",
       "    .dataframe tbody tr th {\n",
       "        vertical-align: top;\n",
       "    }\n",
       "\n",
       "    .dataframe thead th {\n",
       "        text-align: right;\n",
       "    }\n",
       "</style>\n",
       "<table border=\"1\" class=\"dataframe\">\n",
       "  <thead>\n",
       "    <tr style=\"text-align: right;\">\n",
       "      <th></th>\n",
       "      <th>pclass</th>\n",
       "      <th>gender</th>\n",
       "      <th>age</th>\n",
       "      <th>ticket</th>\n",
       "      <th>fare</th>\n",
       "      <th>embarked</th>\n",
       "      <th>survived</th>\n",
       "      <th>family_count</th>\n",
       "      <th>lname</th>\n",
       "      <th>temp</th>\n",
       "      <th>title</th>\n",
       "      <th>fname</th>\n",
       "      <th>age_category</th>\n",
       "    </tr>\n",
       "    <tr>\n",
       "      <th>companion_type</th>\n",
       "      <th></th>\n",
       "      <th></th>\n",
       "      <th></th>\n",
       "      <th></th>\n",
       "      <th></th>\n",
       "      <th></th>\n",
       "      <th></th>\n",
       "      <th></th>\n",
       "      <th></th>\n",
       "      <th></th>\n",
       "      <th></th>\n",
       "      <th></th>\n",
       "      <th></th>\n",
       "    </tr>\n",
       "  </thead>\n",
       "  <tbody>\n",
       "    <tr>\n",
       "      <th>family</th>\n",
       "      <td>519</td>\n",
       "      <td>519</td>\n",
       "      <td>519</td>\n",
       "      <td>519</td>\n",
       "      <td>519</td>\n",
       "      <td>519</td>\n",
       "      <td>519</td>\n",
       "      <td>519</td>\n",
       "      <td>519</td>\n",
       "      <td>519</td>\n",
       "      <td>519</td>\n",
       "      <td>519</td>\n",
       "      <td>519</td>\n",
       "    </tr>\n",
       "    <tr>\n",
       "      <th>friends</th>\n",
       "      <td>790</td>\n",
       "      <td>790</td>\n",
       "      <td>790</td>\n",
       "      <td>790</td>\n",
       "      <td>790</td>\n",
       "      <td>790</td>\n",
       "      <td>790</td>\n",
       "      <td>790</td>\n",
       "      <td>790</td>\n",
       "      <td>790</td>\n",
       "      <td>790</td>\n",
       "      <td>790</td>\n",
       "      <td>790</td>\n",
       "    </tr>\n",
       "  </tbody>\n",
       "</table>\n",
       "</div>"
      ],
      "text/plain": [
       "                pclass  gender  age  ticket  fare  embarked  survived  \\\n",
       "companion_type                                                          \n",
       "family             519     519  519     519   519       519       519   \n",
       "friends            790     790  790     790   790       790       790   \n",
       "\n",
       "                family_count  lname  temp  title  fname  age_category  \n",
       "companion_type                                                         \n",
       "family                   519    519   519    519    519           519  \n",
       "friends                  790    790   790    790    790           790  "
      ]
     },
     "execution_count": 69,
     "metadata": {},
     "output_type": "execute_result"
    }
   ],
   "source": [
    "df.groupby('companion_type').count()"
   ]
  },
  {
   "cell_type": "markdown",
   "id": "f2204025",
   "metadata": {},
   "source": [
    "10. get the count of survival and non-survival count in each companion_type\n"
   ]
  },
  {
   "cell_type": "code",
   "execution_count": 70,
   "id": "f10ee7ef",
   "metadata": {},
   "outputs": [
    {
     "data": {
      "text/plain": [
       "companion_type  survived\n",
       "family          1           261\n",
       "                0           258\n",
       "friends         0           551\n",
       "                1           239\n",
       "Name: count, dtype: int64"
      ]
     },
     "execution_count": 70,
     "metadata": {},
     "output_type": "execute_result"
    }
   ],
   "source": [
    "df.groupby('companion_type')['survived'].value_counts()"
   ]
  },
  {
   "cell_type": "markdown",
   "id": "cf4a7a6e",
   "metadata": {},
   "source": [
    "11. get the count of pclass\n"
   ]
  },
  {
   "cell_type": "code",
   "execution_count": 71,
   "id": "82b1636b",
   "metadata": {},
   "outputs": [
    {
     "data": {
      "text/plain": [
       "np.int64(1309)"
      ]
     },
     "execution_count": 71,
     "metadata": {},
     "output_type": "execute_result"
    }
   ],
   "source": [
    "df['pclass'].count()"
   ]
  },
  {
   "cell_type": "markdown",
   "id": "7eef7325",
   "metadata": {},
   "source": [
    "12. get the count of survival and non-survival count in each pclass"
   ]
  },
  {
   "cell_type": "code",
   "execution_count": 72,
   "id": "63045f35",
   "metadata": {},
   "outputs": [
    {
     "data": {
      "text/plain": [
       "pclass  survived\n",
       "1       1           200\n",
       "        0           123\n",
       "2       0           158\n",
       "        1           119\n",
       "3       0           528\n",
       "        1           181\n",
       "Name: count, dtype: int64"
      ]
     },
     "execution_count": 72,
     "metadata": {},
     "output_type": "execute_result"
    }
   ],
   "source": [
    "df.groupby('pclass')['survived'].value_counts()"
   ]
  },
  {
   "cell_type": "markdown",
   "id": "2316b294",
   "metadata": {},
   "source": [
    "13. get the co-relation for all numerical columns"
   ]
  },
  {
   "cell_type": "code",
   "execution_count": 73,
   "id": "03214ae8",
   "metadata": {},
   "outputs": [
    {
     "data": {
      "text/html": [
       "<div>\n",
       "<style scoped>\n",
       "    .dataframe tbody tr th:only-of-type {\n",
       "        vertical-align: middle;\n",
       "    }\n",
       "\n",
       "    .dataframe tbody tr th {\n",
       "        vertical-align: top;\n",
       "    }\n",
       "\n",
       "    .dataframe thead th {\n",
       "        text-align: right;\n",
       "    }\n",
       "</style>\n",
       "<table border=\"1\" class=\"dataframe\">\n",
       "  <thead>\n",
       "    <tr style=\"text-align: right;\">\n",
       "      <th></th>\n",
       "      <th>pclass</th>\n",
       "      <th>age</th>\n",
       "      <th>fare</th>\n",
       "      <th>survived</th>\n",
       "      <th>family_count</th>\n",
       "    </tr>\n",
       "  </thead>\n",
       "  <tbody>\n",
       "    <tr>\n",
       "      <th>pclass</th>\n",
       "      <td>1.000000</td>\n",
       "      <td>-0.377902</td>\n",
       "      <td>-0.558716</td>\n",
       "      <td>-0.312469</td>\n",
       "      <td>0.050027</td>\n",
       "    </tr>\n",
       "    <tr>\n",
       "      <th>age</th>\n",
       "      <td>-0.377902</td>\n",
       "      <td>1.000000</td>\n",
       "      <td>0.178178</td>\n",
       "      <td>-0.043817</td>\n",
       "      <td>-0.193736</td>\n",
       "    </tr>\n",
       "    <tr>\n",
       "      <th>fare</th>\n",
       "      <td>-0.558716</td>\n",
       "      <td>0.178178</td>\n",
       "      <td>1.000000</td>\n",
       "      <td>0.244417</td>\n",
       "      <td>0.226689</td>\n",
       "    </tr>\n",
       "    <tr>\n",
       "      <th>survived</th>\n",
       "      <td>-0.312469</td>\n",
       "      <td>-0.043817</td>\n",
       "      <td>0.244417</td>\n",
       "      <td>1.000000</td>\n",
       "      <td>0.026876</td>\n",
       "    </tr>\n",
       "    <tr>\n",
       "      <th>family_count</th>\n",
       "      <td>0.050027</td>\n",
       "      <td>-0.193736</td>\n",
       "      <td>0.226689</td>\n",
       "      <td>0.026876</td>\n",
       "      <td>1.000000</td>\n",
       "    </tr>\n",
       "  </tbody>\n",
       "</table>\n",
       "</div>"
      ],
      "text/plain": [
       "                pclass       age      fare  survived  family_count\n",
       "pclass        1.000000 -0.377902 -0.558716 -0.312469      0.050027\n",
       "age          -0.377902  1.000000  0.178178 -0.043817     -0.193736\n",
       "fare         -0.558716  0.178178  1.000000  0.244417      0.226689\n",
       "survived     -0.312469 -0.043817  0.244417  1.000000      0.026876\n",
       "family_count  0.050027 -0.193736  0.226689  0.026876      1.000000"
      ]
     },
     "execution_count": 73,
     "metadata": {},
     "output_type": "execute_result"
    }
   ],
   "source": [
    "df.corr(numeric_only=True)"
   ]
  },
  {
   "cell_type": "markdown",
   "id": "1f47f3c0",
   "metadata": {},
   "source": [
    "# Level-3"
   ]
  },
  {
   "cell_type": "markdown",
   "id": "0b416b2e",
   "metadata": {},
   "source": [
    "1. plot the female and male count"
   ]
  },
  {
   "cell_type": "code",
   "execution_count": 74,
   "id": "5cb9be76",
   "metadata": {},
   "outputs": [
    {
     "data": {
      "image/png": "[encoded data removed]",
      "text/plain": [
       "<Figure size 640x480 with 1 Axes>"
      ]
     },
     "metadata": {},
     "output_type": "display_data"
    }
   ],
   "source": [
    "plt.Figure(figsize=(4,2))\n",
    "sns.countplot(df,x='gender')\n",
    "plt.show()"
   ]
  },
  {
   "cell_type": "markdown",
   "id": "eb3eac79",
   "metadata": {},
   "source": [
    "2. plot the female and male count in each pclass"
   ]
  },
  {
   "cell_type": "code",
   "execution_count": 75,
   "id": "aa2ce8da",
   "metadata": {},
   "outputs": [
    {
     "data": {
      "image/png": "[encoded data removed]",
      "text/plain": [
       "<Figure size 640x480 with 1 Axes>"
      ]
     },
     "metadata": {},
     "output_type": "display_data"
    }
   ],
   "source": [
    "plt.Figure(figsize=(4,2))\n",
    "sns.histplot(df,x='gender',hue='pclass')\n",
    "plt.show()"
   ]
  },
  {
   "cell_type": "markdown",
   "id": "2029df5d",
   "metadata": {},
   "source": [
    "2. plot the female and male count in each survival_status"
   ]
  },
  {
   "cell_type": "code",
   "execution_count": 76,
   "id": "3dd1bc1c",
   "metadata": {},
   "outputs": [
    {
     "data": {
      "image/png": "[encoded data removed]",
      "text/plain": [
       "<Figure size 640x480 with 1 Axes>"
      ]
     },
     "metadata": {},
     "output_type": "display_data"
    }
   ],
   "source": [
    "plt.Figure(figsize=(4,2))\n",
    "sns.histplot(df,x='gender',hue='survived')\n",
    "plt.show()"
   ]
  },
  {
   "cell_type": "markdown",
   "id": "a216509f",
   "metadata": {},
   "source": [
    "1. plot the companion_type count"
   ]
  },
  {
   "cell_type": "code",
   "execution_count": 77,
   "id": "b7e57384",
   "metadata": {},
   "outputs": [
    {
     "data": {
      "image/png": "[encoded data removed]",
      "text/plain": [
       "<Figure size 640x480 with 1 Axes>"
      ]
     },
     "metadata": {},
     "output_type": "display_data"
    }
   ],
   "source": [
    "plt.Figure(figsize=(4,2))\n",
    "sns.countplot(df,x='companion_type',color=('red'))\n",
    "plt.show()"
   ]
  },
  {
   "cell_type": "markdown",
   "id": "e0cbde7c",
   "metadata": {},
   "source": [
    "1. plot the companion_type count in each gender"
   ]
  },
  {
   "cell_type": "code",
   "execution_count": 78,
   "id": "a1dfc962",
   "metadata": {},
   "outputs": [
    {
     "data": {
      "image/png": "[encoded data removed]",
      "text/plain": [
       "<Figure size 640x480 with 1 Axes>"
      ]
     },
     "metadata": {},
     "output_type": "display_data"
    }
   ],
   "source": [
    "plt.Figure(figsize=(4,2))\n",
    "sns.countplot(df,x='companion_type',hue='gender')\n",
    "plt.show()"
   ]
  },
  {
   "cell_type": "markdown",
   "id": "2ecee9cd",
   "metadata": {},
   "source": [
    "1. plot the companion_type count in each pclass"
   ]
  },
  {
   "cell_type": "code",
   "execution_count": 79,
   "id": "9e4ccdee",
   "metadata": {},
   "outputs": [
    {
     "data": {
      "image/png": "[encoded data removed]",
      "text/plain": [
       "<Figure size 640x480 with 1 Axes>"
      ]
     },
     "metadata": {},
     "output_type": "display_data"
    }
   ],
   "source": [
    "plt.Figure(figsize=(4,2))\n",
    "sns.countplot(df,x='companion_type',hue='pclass')\n",
    "plt.show()"
   ]
  },
  {
   "cell_type": "markdown",
   "id": "476cb296",
   "metadata": {},
   "source": [
    "1. plot the companion_type count in each survival_status"
   ]
  },
  {
   "cell_type": "code",
   "execution_count": 80,
   "id": "3224ad00",
   "metadata": {},
   "outputs": [
    {
     "data": {
      "image/png": "[encoded data removed]",
      "text/plain": [
       "<Figure size 640x480 with 1 Axes>"
      ]
     },
     "metadata": {},
     "output_type": "display_data"
    }
   ],
   "source": [
    "plt.Figure(figsize=(4,2))\n",
    "sns.countplot(df,x='companion_type',hue='survived')\n",
    "plt.show()"
   ]
  },
  {
   "cell_type": "markdown",
   "id": "21d0a4bb",
   "metadata": {},
   "source": [
    "1. plot the age_category count in each gender\n"
   ]
  },
  {
   "cell_type": "code",
   "execution_count": 81,
   "id": "d998b105",
   "metadata": {},
   "outputs": [
    {
     "data": {
      "image/png": "[encoded data removed]",
      "text/plain": [
       "<Figure size 640x480 with 1 Axes>"
      ]
     },
     "metadata": {},
     "output_type": "display_data"
    }
   ],
   "source": [
    "plt.Figure(figsize=(2,4))\n",
    "sns.histplot(df,x='age_category',hue='gender')\n",
    "plt.show()"
   ]
  },
  {
   "cell_type": "markdown",
   "id": "2c3f1c29",
   "metadata": {},
   "source": [
    "1. plot the age_category count in each pclass"
   ]
  },
  {
   "cell_type": "code",
   "execution_count": 82,
   "id": "8c324703",
   "metadata": {},
   "outputs": [
    {
     "data": {
      "image/png": "[encoded data removed]",
      "text/plain": [
       "<Figure size 640x480 with 1 Axes>"
      ]
     },
     "metadata": {},
     "output_type": "display_data"
    }
   ],
   "source": [
    "plt.Figure(figsize=(2,4))\n",
    "sns.countplot(df,x='age_category',hue='pclass')\n",
    "plt.show()"
   ]
  },
  {
   "cell_type": "markdown",
   "id": "4be4e593",
   "metadata": {},
   "source": [
    "1. plot the age_category count in each survival_status\n"
   ]
  },
  {
   "cell_type": "code",
   "execution_count": 83,
   "id": "ff514e85",
   "metadata": {},
   "outputs": [
    {
     "data": {
      "image/png": "[encoded data removed]",
      "text/plain": [
       "<Figure size 640x480 with 1 Axes>"
      ]
     },
     "metadata": {},
     "output_type": "display_data"
    }
   ],
   "source": [
    "plt.Figure(figsize=(2,4))\n",
    "sns.countplot(df,x='age_category',hue='survived')\n",
    "plt.show()"
   ]
  },
  {
   "cell_type": "markdown",
   "id": "a98776bd",
   "metadata": {},
   "source": [
    "1. plot the embarked count in each gender"
   ]
  },
  {
   "cell_type": "code",
   "execution_count": 84,
   "id": "c90809ec",
   "metadata": {},
   "outputs": [
    {
     "data": {
      "image/png": "[encoded data removed]",
      "text/plain": [
       "<Figure size 640x480 with 1 Axes>"
      ]
     },
     "metadata": {},
     "output_type": "display_data"
    }
   ],
   "source": [
    "plt.Figure(figsize=(2,4))\n",
    "sns.histplot(df,x='gender',hue='embarked')\n",
    "plt.show()"
   ]
  },
  {
   "cell_type": "markdown",
   "id": "1314d66b",
   "metadata": {},
   "source": [
    "1. plot the embarked count in each survival_status\n"
   ]
  },
  {
   "cell_type": "code",
   "execution_count": 85,
   "id": "40768ea0",
   "metadata": {},
   "outputs": [
    {
     "data": {
      "image/png": "[encoded data removed]",
      "text/plain": [
       "<Figure size 640x480 with 1 Axes>"
      ]
     },
     "metadata": {},
     "output_type": "display_data"
    }
   ],
   "source": [
    "plt.Figure(figsize=(2,4))\n",
    "sns.countplot(df,x='embarked',hue='survived')\n",
    "plt.show()"
   ]
  },
  {
   "cell_type": "markdown",
   "id": "a4534c04",
   "metadata": {},
   "source": [
    "1. plot the embarked count in each pclass"
   ]
  },
  {
   "cell_type": "code",
   "execution_count": 86,
   "id": "cf30b079",
   "metadata": {},
   "outputs": [
    {
     "data": {
      "image/png": "[encoded data removed]",
      "text/plain": [
       "<Figure size 640x480 with 1 Axes>"
      ]
     },
     "metadata": {},
     "output_type": "display_data"
    }
   ],
   "source": [
    "plt.Figure(figsize=(2,4))\n",
    "sns.countplot(df,x='pclass',hue='embarked')\n",
    "plt.show()"
   ]
  },
  {
   "cell_type": "markdown",
   "id": "132e8e7d",
   "metadata": {},
   "source": [
    "2. plot the distribution of fare"
   ]
  },
  {
   "cell_type": "code",
   "execution_count": 87,
   "id": "25ec8606",
   "metadata": {},
   "outputs": [
    {
     "data": {
      "image/png": "[encoded data removed]",
      "text/plain": [
       "<Figure size 640x480 with 1 Axes>"
      ]
     },
     "metadata": {},
     "output_type": "display_data"
    }
   ],
   "source": [
    "sns.kdeplot(df,x='fare')\n",
    "plt.show()"
   ]
  },
  {
   "cell_type": "markdown",
   "id": "aeebbed9",
   "metadata": {},
   "source": [
    "3. plot the distribution of age"
   ]
  },
  {
   "cell_type": "code",
   "execution_count": 88,
   "id": "25ce071d",
   "metadata": {},
   "outputs": [
    {
     "data": {
      "image/png": "[encoded data removed]",
      "text/plain": [
       "<Figure size 640x480 with 1 Axes>"
      ]
     },
     "metadata": {},
     "output_type": "display_data"
    }
   ],
   "source": [
    "sns.kdeplot(df,x='age')\n",
    "plt.show()"
   ]
  },
  {
   "cell_type": "markdown",
   "id": "e33dbe97",
   "metadata": {},
   "source": [
    "4. plot the percentage of passengers in each pclass"
   ]
  },
  {
   "cell_type": "code",
   "execution_count": 89,
   "id": "9bb7235e",
   "metadata": {},
   "outputs": [
    {
     "data": {
      "text/plain": [
       "Index([3, 1, 2], dtype='int64', name='pclass')"
      ]
     },
     "execution_count": 89,
     "metadata": {},
     "output_type": "execute_result"
    }
   ],
   "source": [
    "p=df['pclass'].value_counts()\n",
    "p.values\n",
    "p.index\n"
   ]
  },
  {
   "cell_type": "code",
   "execution_count": 90,
   "id": "da09203a",
   "metadata": {},
   "outputs": [
    {
     "data": {
      "image/png": "[encoded data removed]",
      "text/plain": [
       "<Figure size 640x480 with 1 Axes>"
      ]
     },
     "metadata": {},
     "output_type": "display_data"
    }
   ],
   "source": [
    "plt.pie(x=p.values,labels=p.index,autopct='%.2f')\n",
    "plt.show()"
   ]
  },
  {
   "cell_type": "markdown",
   "id": "fef97fc4",
   "metadata": {},
   "source": [
    "4. plot the percentage of passengers in each age_category"
   ]
  },
  {
   "cell_type": "code",
   "execution_count": 91,
   "id": "b50b66b6",
   "metadata": {},
   "outputs": [
    {
     "data": {
      "text/plain": [
       "CategoricalIndex(['adult', 'teen', 'child', 'senior'], categories=['child', 'teen', 'adult', 'senior'], ordered=True, dtype='category', name='age_category')"
      ]
     },
     "execution_count": 91,
     "metadata": {},
     "output_type": "execute_result"
    }
   ],
   "source": [
    "q=df['age_category'].value_counts()\n",
    "q.values\n",
    "q.index"
   ]
  },
  {
   "cell_type": "code",
   "execution_count": 92,
   "id": "ffbd059f",
   "metadata": {},
   "outputs": [
    {
     "data": {
      "image/png": "[encoded data removed]",
      "text/plain": [
       "<Figure size 640x480 with 1 Axes>"
      ]
     },
     "metadata": {},
     "output_type": "display_data"
    }
   ],
   "source": [
    "plt.pie(x=q.values,labels=q.index,autopct='%.2f')\n",
    "plt.show()"
   ]
  },
  {
   "cell_type": "markdown",
   "id": "d37dccde",
   "metadata": {},
   "source": [
    "plot the spread of data in age_column wrt fare_column"
   ]
  },
  {
   "cell_type": "code",
   "execution_count": 93,
   "id": "55978f41",
   "metadata": {},
   "outputs": [
    {
     "data": {
      "text/plain": [
       "<Axes: xlabel='age_category', ylabel='fare'>"
      ]
     },
     "execution_count": 93,
     "metadata": {},
     "output_type": "execute_result"
    },
    {
     "data": {
      "image/png": "[encoded data removed]",
      "text/plain": [
       "<Figure size 640x480 with 1 Axes>"
      ]
     },
     "metadata": {},
     "output_type": "display_data"
    }
   ],
   "source": [
    "sns.scatterplot(df,x='age_category',y='fare')"
   ]
  },
  {
   "cell_type": "markdown",
   "id": "ab96f3ac",
   "metadata": {},
   "source": [
    "plot the trend of age wrt fare"
   ]
  },
  {
   "cell_type": "code",
   "execution_count": 94,
   "id": "edf74026",
   "metadata": {},
   "outputs": [
    {
     "data": {
      "text/plain": [
       "<Axes: xlabel='age', ylabel='fare'>"
      ]
     },
     "execution_count": 94,
     "metadata": {},
     "output_type": "execute_result"
    },
    {
     "data": {
      "image/png": "[encoded data removed]",
      "text/plain": [
       "<Figure size 640x480 with 1 Axes>"
      ]
     },
     "metadata": {},
     "output_type": "display_data"
    }
   ],
   "source": [
    "sns.scatterplot(df,x='age',y='fare')"
   ]
  },
  {
   "cell_type": "markdown",
   "id": "09a8af14",
   "metadata": {},
   "source": [
    "plot the trend of fare wrt pclass"
   ]
  },
  {
   "cell_type": "code",
   "execution_count": 95,
   "id": "a8f71c84",
   "metadata": {},
   "outputs": [
    {
     "data": {
      "text/plain": [
       "<Axes: xlabel='pclass', ylabel='fare'>"
      ]
     },
     "execution_count": 95,
     "metadata": {},
     "output_type": "execute_result"
    },
    {
     "data": {
      "image/png": "[encoded data removed]",
      "text/plain": [
       "<Figure size 640x480 with 1 Axes>"
      ]
     },
     "metadata": {},
     "output_type": "display_data"
    }
   ],
   "source": [
    "sns.scatterplot(df,x='pclass',y='fare')"
   ]
  },
  {
   "cell_type": "markdown",
   "id": "0f0a3f52",
   "metadata": {},
   "source": [
    "find the outlier in fare,age"
   ]
  },
  {
   "cell_type": "code",
   "execution_count": 96,
   "id": "295a24ec",
   "metadata": {},
   "outputs": [
    {
     "data": {
      "text/plain": [
       "<Axes: xlabel='fare', ylabel='age'>"
      ]
     },
     "execution_count": 96,
     "metadata": {},
     "output_type": "execute_result"
    },
    {
     "data": {
      "image/png": "[encoded data removed]",
      "text/plain": [
       "<Figure size 640x480 with 1 Axes>"
      ]
     },
     "metadata": {},
     "output_type": "display_data"
    }
   ],
   "source": [
    "sns.boxplot(df,x='fare',y='age')"
   ]
  },
  {
   "cell_type": "markdown",
   "id": "8b087edf",
   "metadata": {},
   "source": [
    " get the co-relation for all numerical columns using heatmap\n"
   ]
  },
  {
   "cell_type": "code",
   "execution_count": 97,
   "id": "d3732976",
   "metadata": {},
   "outputs": [],
   "source": [
    "a=df.corr(numeric_only=True)"
   ]
  },
  {
   "cell_type": "code",
   "execution_count": 98,
   "id": "b11b147d",
   "metadata": {},
   "outputs": [
    {
     "data": {
      "text/plain": [
       "<Axes: >"
      ]
     },
     "execution_count": 98,
     "metadata": {},
     "output_type": "execute_result"
    },
    {
     "data": {
      "image/png": "[encoded data removed]",
      "text/plain": [
       "<Figure size 640x480 with 2 Axes>"
      ]
     },
     "metadata": {},
     "output_type": "display_data"
    }
   ],
   "source": [
    "sns.heatmap(a)"
   ]
  },
  {
   "cell_type": "markdown",
   "id": "e95549f1",
   "metadata": {},
   "source": [
    "survival_rate of gender in each pclass"
   ]
  },
  {
   "cell_type": "code",
   "execution_count": 99,
   "id": "a676d5d2",
   "metadata": {},
   "outputs": [
    {
     "data": {
      "text/plain": [
       "<Axes: xlabel='gender', ylabel='survived'>"
      ]
     },
     "execution_count": 99,
     "metadata": {},
     "output_type": "execute_result"
    },
    {
     "data": {
      "image/png": "[encoded data removed]",
      "text/plain": [
       "<Figure size 640x480 with 1 Axes>"
      ]
     },
     "metadata": {},
     "output_type": "display_data"
    }
   ],
   "source": [
    "sns.barplot(df,x='gender',y='survived',hue='pclass')"
   ]
  },
  {
   "cell_type": "markdown",
   "id": "6588e9d3",
   "metadata": {},
   "source": [
    "avg_age of gender in each pclass"
   ]
  },
  {
   "cell_type": "code",
   "execution_count": 100,
   "id": "9a9db21d",
   "metadata": {},
   "outputs": [
    {
     "data": {
      "text/plain": [
       "np.float64(29.503208556149737)"
      ]
     },
     "execution_count": 100,
     "metadata": {},
     "output_type": "execute_result"
    }
   ],
   "source": [
    "df['age'].mean()"
   ]
  },
  {
   "cell_type": "code",
   "execution_count": 101,
   "id": "1bde0f51",
   "metadata": {},
   "outputs": [
    {
     "data": {
      "text/plain": [
       "<Axes: xlabel='pclass'>"
      ]
     },
     "execution_count": 101,
     "metadata": {},
     "output_type": "execute_result"
    },
    {
     "data": {
      "image/png": "[encoded data removed]",
      "text/plain": [
       "<Figure size 640x480 with 1 Axes>"
      ]
     },
     "metadata": {},
     "output_type": "display_data"
    }
   ],
   "source": [
    "\n",
    "sns.barplot(df,x='pclass',y=(df['age'].mean()),hue='gender')"
   ]
  },
  {
   "cell_type": "markdown",
   "id": "ee2b4623",
   "metadata": {},
   "source": [
    "avg_fare of gender in each pclass"
   ]
  },
  {
   "cell_type": "code",
   "execution_count": 102,
   "id": "4277ff4e",
   "metadata": {},
   "outputs": [
    {
     "data": {
      "text/plain": [
       "np.float64(33.283346065699)"
      ]
     },
     "execution_count": 102,
     "metadata": {},
     "output_type": "execute_result"
    }
   ],
   "source": [
    "df['fare'].mean()"
   ]
  },
  {
   "cell_type": "code",
   "execution_count": 103,
   "id": "bc797fa1",
   "metadata": {},
   "outputs": [
    {
     "data": {
      "text/plain": [
       "<Axes: xlabel='pclass'>"
      ]
     },
     "execution_count": 103,
     "metadata": {},
     "output_type": "execute_result"
    },
    {
     "data": {
      "image/png": "[encoded data removed]",
      "text/plain": [
       "<Figure size 640x480 with 1 Axes>"
      ]
     },
     "metadata": {},
     "output_type": "display_data"
    }
   ],
   "source": [
    "sns.barplot(df,x='pclass',y=(df['fare'].mean()),hue='gender')"
   ]
  },
  {
   "cell_type": "markdown",
   "id": "10ec96ad",
   "metadata": {},
   "source": [
    "survival_rate of gender in each age_category"
   ]
  },
  {
   "cell_type": "code",
   "execution_count": 104,
   "id": "b3a270a1",
   "metadata": {},
   "outputs": [
    {
     "data": {
      "text/plain": [
       "<Axes: xlabel='age_category', ylabel='survived'>"
      ]
     },
     "execution_count": 104,
     "metadata": {},
     "output_type": "execute_result"
    },
    {
     "data": {
      "image/png": "[encoded data removed]",
      "text/plain": [
       "<Figure size 640x480 with 1 Axes>"
      ]
     },
     "metadata": {},
     "output_type": "display_data"
    }
   ],
   "source": [
    "sns.barplot(df,x='age_category',y='survived',hue='gender')"
   ]
  },
  {
   "cell_type": "markdown",
   "id": "779d3d1f",
   "metadata": {},
   "source": [
    "survival_rate of companion_type in each age_category"
   ]
  },
  {
   "cell_type": "code",
   "execution_count": 105,
   "id": "656393b2",
   "metadata": {},
   "outputs": [
    {
     "data": {
      "text/plain": [
       "<Axes: xlabel='age_category', ylabel='survived'>"
      ]
     },
     "execution_count": 105,
     "metadata": {},
     "output_type": "execute_result"
    },
    {
     "data": {
      "image/png": "[encoded data removed]",
      "text/plain": [
       "<Figure size 640x480 with 1 Axes>"
      ]
     },
     "metadata": {},
     "output_type": "display_data"
    }
   ],
   "source": [
    "sns.barplot(df,x='age_category',y='survived',hue='companion_type')"
   ]
  },
  {
   "cell_type": "code",
   "execution_count": 106,
   "id": "abbc39b3",
   "metadata": {},
   "outputs": [
    {
     "data": {
      "text/plain": [
       "<matplotlib.legend.Legend at 0x290dafcb470>"
      ]
     },
     "execution_count": 106,
     "metadata": {},
     "output_type": "execute_result"
    },
    {
     "data": {
      "image/png": "[encoded data removed]",
      "text/plain": [
       "<Figure size 1200x300 with 4 Axes>"
      ]
     },
     "metadata": {},
     "output_type": "display_data"
    }
   ],
   "source": [
    "fg=sns.FacetGrid(df,col='age_category')\n",
    "fg.map_dataframe(sns.barplot,x='companion_type',y='survived',hue='gender',palette='coolwarm',hue_order=['male','female'])\n",
    "plt.legend()"
   ]
  },
  {
   "cell_type": "code",
   "execution_count": 107,
   "id": "223914fa",
   "metadata": {},
   "outputs": [
    {
     "data": {
      "text/plain": [
       "<matplotlib.legend.Legend at 0x290d5c703e0>"
      ]
     },
     "execution_count": 107,
     "metadata": {},
     "output_type": "execute_result"
    },
    {
     "data": {
      "image/png": "[encoded data removed]",
      "text/plain": [
       "<Figure size 600x300 with 2 Axes>"
      ]
     },
     "metadata": {},
     "output_type": "display_data"
    }
   ],
   "source": [
    "fg=sns.FacetGrid(df,col='companion_type')\n",
    "fg.map_dataframe(sns.barplot,x='age_category',y='survived',hue='gender',palette='coolwarm',hue_order=['male','female'])\n",
    "plt.legend()"
   ]
  },
  {
   "cell_type": "code",
   "execution_count": 108,
   "id": "32e92ce6",
   "metadata": {},
   "outputs": [
    {
     "ename": "SyntaxError",
     "evalue": "invalid syntax (769960944.py, line 1)",
     "output_type": "error",
     "traceback": [
      "  \u001b[36mCell\u001b[39m\u001b[36m \u001b[39m\u001b[32mIn[108]\u001b[39m\u001b[32m, line 1\u001b[39m\n\u001b[31m    \u001b[39m\u001b[31mif we have more than three colors we can go with face grid it is ---- applicable only for hist,count,bar plot\u001b[39m\n          ^\n\u001b[31mSyntaxError\u001b[39m\u001b[31m:\u001b[39m invalid syntax\n"
     ]
    }
   ],
   "source": [
    "if we have more than three colors we can go with face grid it is ---- applicable only for hist,count,bar plot"
   ]
  },
  {
   "cell_type": "markdown",
   "id": "710a6b48",
   "metadata": {},
   "source": [
    "plot pclass wise no of passengers"
   ]
  },
  {
   "cell_type": "code",
   "execution_count": null,
   "id": "91d8134a",
   "metadata": {},
   "outputs": [
    {
     "data": {
      "image/png": "[encoded data removed]",
      "text/plain": [
       "<Figure size 640x480 with 1 Axes>"
      ]
     },
     "metadata": {},
     "output_type": "display_data"
    }
   ],
   "source": [
    "plt.Figure(figsize=(3,3))\n",
    "c=sns.countplot(df,x='pclass')\n",
    "c.bar_label(c.containers[0]) #this method is used to give number for plot its also applicable only for hist,bar,count plot\n",
    "plt.show()"
   ]
  },
  {
   "cell_type": "code",
   "execution_count": null,
   "id": "dd2eeb72",
   "metadata": {},
   "outputs": [
    {
     "data": {
      "image/png": "[encoded data removed]",
      "text/plain": [
       "<Figure size 640x480 with 1 Axes>"
      ]
     },
     "metadata": {},
     "output_type": "display_data"
    }
   ],
   "source": [
    "plt.Figure(figsize=(3,3))\n",
    "c=sns.countplot(df,x='pclass',hue='gender')\n",
    "for i in c.containers:   #we can use bar structure to check count of each plots \n",
    "    c.bar_label(i)"
   ]
  },
  {
   "cell_type": "code",
   "execution_count": null,
   "id": "ff323aa2",
   "metadata": {},
   "outputs": [],
   "source": [
    "a=df['pclass'].value_counts().index #----descending order\n",
    "a=df['pclass'].value_counts().sort_values().index #----ascending order"
   ]
  },
  {
   "cell_type": "code",
   "execution_count": null,
   "id": "d1b2bb7f",
   "metadata": {},
   "outputs": [
    {
     "data": {
      "image/png": "[encoded data removed]",
      "text/plain": [
       "<Figure size 640x480 with 1 Axes>"
      ]
     },
     "metadata": {},
     "output_type": "display_data"
    }
   ],
   "source": [
    "plt.Figure(figsize=(3,3))\n",
    "c=sns.countplot(df,x='pclass',order=a) #order is used to ascend the values first we need to assign varaiable for particualr condition \n",
    "c.bar_label(c.containers[0]) #this method is used to give number for plot its also applicable only for hist,bar,count plot\n",
    "plt.show()"
   ]
  }
 ],
 "metadata": {
  "kernelspec": {
   "display_name": "Python 3",
   "language": "python",
   "name": "python3"
  },
  "language_info": {
   "codemirror_mode": {
    "name": "ipython",
    "version": 3
   },
   "file_extension": ".py",
   "mimetype": "text/x-python",
   "name": "python",
   "nbconvert_exporter": "python",
   "pygments_lexer": "ipython3",
   "version": "3.12.10"
  }
 },
 "nbformat": 4,
 "nbformat_minor": 5
}
